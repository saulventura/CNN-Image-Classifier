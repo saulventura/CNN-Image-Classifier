{
 "cells": [
  {
   "cell_type": "markdown",
   "metadata": {
    "colab_type": "text",
    "id": "3DR-eO17geWu"
   },
   "source": [
    "# Convolutional Neural Network\n",
    "\n",
    "<img src=\"catsvsdogs.png\" width=\"100%\" height=\"100%\"/>"
   ]
  },
  {
   "cell_type": "markdown",
   "metadata": {},
   "source": [
    "<strong>Create a Deep Convolutional Neural Network Step-by-Step to Classify Photographs of Dogs and Cats</strong>"
   ]
  },
  {
   "cell_type": "markdown",
   "metadata": {},
   "source": [
    "### Table of content:\n",
    "1. [Imports](#1.-Imports)  \n",
    "2. [Load the Dataset](#2.-Load-the-Dataset)  \n",
    "3. [Data Pre Processing](#3.-Data-Pre-Processing)   \n",
    "    3.1. [Pre Processing Training Data](#3.1.-Pre-Processing-Training-Data)  \n",
    "    3.2. [Pre Processing Test Data](#3.2.-Pre-Processing-Test-Data)    \n",
    "    3.3. [Display Images](#3.3.-Display-Images)  \n",
    "4. [Building the CNN](#4.-Building-the-CNN)   \n",
    "5. [Training the CNN](#5.-Training-the-CNN)  \n",
    "6. [Making a Prediction](#6.-Making-a-Prediction)  "
   ]
  },
  {
   "cell_type": "markdown",
   "metadata": {
    "colab_type": "text",
    "id": "EMefrVPCg-60"
   },
   "source": [
    "<div class=\"alert alert-block alert-info\">\n",
    "<b><h1>1. Imports</h1></div>\n",
    "<a class=\"anchor\" id=\"Imports\"></a>\n",
    "    \n",
    "[[back to the top](#Table-of-content:)]"
   ]
  },
  {
   "cell_type": "code",
   "execution_count": 1,
   "metadata": {
    "colab": {},
    "colab_type": "code",
    "id": "sCV30xyVhFbE"
   },
   "outputs": [],
   "source": [
    "import tensorflow as tf\n",
    "from keras.preprocessing.image import ImageDataGenerator"
   ]
  },
  {
   "cell_type": "code",
   "execution_count": 2,
   "metadata": {
    "colab": {},
    "colab_type": "code",
    "id": "FIleuCAjoFD8"
   },
   "outputs": [
    {
     "data": {
      "text/plain": [
       "'2.3.0'"
      ]
     },
     "execution_count": 2,
     "metadata": {},
     "output_type": "execute_result"
    }
   ],
   "source": [
    "tf.__version__"
   ]
  },
  {
   "cell_type": "markdown",
   "metadata": {},
   "source": [
    "<div class=\"alert alert-block alert-info\">\n",
    "<b><h1>2. Load the Dataset</h1></div>\n",
    "<a class=\"anchor\" id=\"2.-Load the Dataset\"></a>\n",
    "    \n",
    "[[back to the top](#Table-of-content:)]"
   ]
  },
  {
   "cell_type": "code",
   "execution_count": 3,
   "metadata": {},
   "outputs": [],
   "source": [
    "#"
   ]
  },
  {
   "cell_type": "markdown",
   "metadata": {
    "colab_type": "text",
    "id": "oxQxCBWyoGPE"
   },
   "source": [
    "<div class=\"alert alert-block alert-info\">\n",
    "<b><h1>3. Data Pre Processing</h1></div>\n",
    "<a class=\"anchor\" id=\"3.-Data Pre Processing\"></a>\n",
    "    \n",
    "[[back to the top](#Table-of-content:)]"
   ]
  },
  {
   "cell_type": "code",
   "execution_count": 4,
   "metadata": {},
   "outputs": [],
   "source": [
    "#"
   ]
  },
  {
   "cell_type": "markdown",
   "metadata": {
    "colab_type": "text",
    "id": "MvE-heJNo3GG"
   },
   "source": [
    "<div class=\"alert alert-block alert-warning\">\n",
    "<h2>3.1. Pre Processing Training Data</h2></div>\n",
    "<a class=\"anchor\" id=\"3.1.-Pre Processing Training Data\"></a>\n",
    "\n",
    "[[back to the top](#Table-of-content:)]"
   ]
  },
  {
   "cell_type": "code",
   "execution_count": 5,
   "metadata": {
    "colab": {},
    "colab_type": "code",
    "id": "0koUcJMJpEBD"
   },
   "outputs": [
    {
     "name": "stdout",
     "output_type": "stream",
     "text": [
      "Found 8000 images belonging to 2 classes.\n"
     ]
    }
   ],
   "source": [
    "train_datagen = ImageDataGenerator(rescale = 1./255,\n",
    "                                   shear_range = 0.2,\n",
    "                                   zoom_range = 0.2,\n",
    "                                   horizontal_flip = True)\n",
    "training_set = train_datagen.flow_from_directory('dataset/training_set',\n",
    "                                                 target_size = (64, 64),\n",
    "                                                 batch_size = 32,\n",
    "                                                 class_mode = 'binary')"
   ]
  },
  {
   "cell_type": "markdown",
   "metadata": {
    "colab_type": "text",
    "id": "mrCMmGw9pHys"
   },
   "source": [
    "<div class=\"alert alert-block alert-warning\">\n",
    "<h2>3.2. Pre Processing Test Data</h2></div>\n",
    "<a class=\"anchor\" id=\"3.2.-Pre Processing Test Data\"></a>\n",
    "\n",
    "[[back to the top](#Table-of-content:)]"
   ]
  },
  {
   "cell_type": "code",
   "execution_count": 6,
   "metadata": {
    "colab": {},
    "colab_type": "code",
    "id": "SH4WzfOhpKc3"
   },
   "outputs": [
    {
     "name": "stdout",
     "output_type": "stream",
     "text": [
      "Found 2000 images belonging to 2 classes.\n"
     ]
    }
   ],
   "source": [
    "test_datagen = ImageDataGenerator(rescale = 1./255)\n",
    "test_set = test_datagen.flow_from_directory('dataset/test_set',\n",
    "                                            target_size = (64, 64),\n",
    "                                            batch_size = 32,\n",
    "                                            class_mode = 'binary')"
   ]
  },
  {
   "cell_type": "markdown",
   "metadata": {},
   "source": [
    "<div class=\"alert alert-block alert-warning\">\n",
    "<h2>3.3. Display Images</h2></div>\n",
    "<a class=\"anchor\" id=\"3.3.-Display Images\"></a>\n",
    "\n",
    "[[back to the top](#Table-of-content:)]"
   ]
  },
  {
   "cell_type": "code",
   "execution_count": 7,
   "metadata": {},
   "outputs": [],
   "source": [
    "images_print  =test_set.filenames[:]\n",
    "images_print = [image.replace('\\\\', '/') for image in images_print]\n",
    "images_print = ['./dataset/test_set/' + image for image in images_print]\n",
    "\n",
    "labels = [image.split('/')[-2] for image in images_print]"
   ]
  },
  {
   "cell_type": "code",
   "execution_count": 8,
   "metadata": {},
   "outputs": [
    {
     "data": {
      "text/html": [
       "\n",
       "    <style>\n",
       "        #ipyplot-html-viewer-toggle-HLeGR9736NJ25P5zgCZbzY {\n",
       "            position: absolute;\n",
       "            top: -9999px;\n",
       "            left: -9999px;\n",
       "            visibility: hidden;\n",
       "        }\n",
       "\n",
       "        #ipyplot-html-viewer-label-HLeGR9736NJ25P5zgCZbzY { \n",
       "            position: relative;\n",
       "            display: inline-block;\n",
       "            cursor: pointer;\n",
       "            color: blue;\n",
       "            text-decoration: underline;\n",
       "        }\n",
       "\n",
       "        #ipyplot-html-viewer-textarea-HLeGR9736NJ25P5zgCZbzY {\n",
       "            background: lightgrey;\n",
       "            width: 100%;\n",
       "            height: 0px;\n",
       "            display: none;\n",
       "        }\n",
       "\n",
       "        #ipyplot-html-viewer-toggle-HLeGR9736NJ25P5zgCZbzY:checked ~ #ipyplot-html-viewer-textarea-HLeGR9736NJ25P5zgCZbzY {\n",
       "            height: 200px;\n",
       "            display: block;\n",
       "        }\n",
       "\n",
       "        #ipyplot-html-viewer-toggle-HLeGR9736NJ25P5zgCZbzY:checked + #ipyplot-html-viewer-label-HLeGR9736NJ25P5zgCZbzY:after {\n",
       "            content: \"hide html\";\n",
       "            position: absolute;\n",
       "            top: 0;\n",
       "            left: 0;\n",
       "            right: 0;\n",
       "            bottom: 0;\n",
       "            background: white;\n",
       "            cursor: pointer;\n",
       "            color: blue;\n",
       "            text-decoration: underline;\n",
       "        }\n",
       "    </style>\n",
       "    <div>\n",
       "        <input type=\"checkbox\" id=\"ipyplot-html-viewer-toggle-HLeGR9736NJ25P5zgCZbzY\">\n",
       "        <label id=\"ipyplot-html-viewer-label-HLeGR9736NJ25P5zgCZbzY\" for=\"ipyplot-html-viewer-toggle-HLeGR9736NJ25P5zgCZbzY\">show html</label>\n",
       "        <textarea id=\"ipyplot-html-viewer-textarea-HLeGR9736NJ25P5zgCZbzY\" readonly>\n",
       "            <div>\n",
       "        <style>\n",
       "            input.ipyplot-tab-nWdTpXyJ5JSNpX3h8excqU {\n",
       "                display: none;\n",
       "            }\n",
       "            input.ipyplot-tab-nWdTpXyJ5JSNpX3h8excqU + label.ipyplot-tab-label-nWdTpXyJ5JSNpX3h8excqU {\n",
       "                border: 1px solid #999;\n",
       "                background: #EEE;\n",
       "                padding: 4px 12px;\n",
       "                border-radius: 4px 4px 0 0;\n",
       "                position: relative;\n",
       "                top: 1px;\n",
       "            }\n",
       "            input.ipyplot-tab-nWdTpXyJ5JSNpX3h8excqU:checked + label.ipyplot-tab-label-nWdTpXyJ5JSNpX3h8excqU {\n",
       "                background: #FFF;\n",
       "                border-bottom: 1px solid transparent;\n",
       "            }\n",
       "            input.ipyplot-tab-nWdTpXyJ5JSNpX3h8excqU ~ .tab {\n",
       "                border-top: 1px solid #999;\n",
       "                padding: 12px;\n",
       "            }\n",
       "\n",
       "            input.ipyplot-tab-nWdTpXyJ5JSNpX3h8excqU ~ .tab {\n",
       "                display: none\n",
       "            }\n",
       "    #tabADhNRYiAhgvYbMCkN3xzJw:checked ~ .tab.contentADhNRYiAhgvYbMCkN3xzJw,#tabToRr2Q3ytJ5zZKBcnBMEQD:checked ~ .tab.contentToRr2Q3ytJ5zZKBcnBMEQD{ display: block; }</style><input class=\"ipyplot-tab-nWdTpXyJ5JSNpX3h8excqU\" type=\"radio\" name=\"tabs-nWdTpXyJ5JSNpX3h8excqU\" id=\"tabADhNRYiAhgvYbMCkN3xzJw\" checked /><label class=\"ipyplot-tab-label-nWdTpXyJ5JSNpX3h8excqU\" for=\"tabADhNRYiAhgvYbMCkN3xzJw\">cats</label><input class=\"ipyplot-tab-nWdTpXyJ5JSNpX3h8excqU\" type=\"radio\" name=\"tabs-nWdTpXyJ5JSNpX3h8excqU\" id=\"tabToRr2Q3ytJ5zZKBcnBMEQD\"/><label class=\"ipyplot-tab-label-nWdTpXyJ5JSNpX3h8excqU\" for=\"tabToRr2Q3ytJ5zZKBcnBMEQD\">dogs</label><div class=\"tab contentADhNRYiAhgvYbMCkN3xzJw\">\n",
       "        <style>\n",
       "        #ipyplot-imgs-container-div-93zGZDU2HumBCx8Z3K7c2r {\n",
       "            width: 100%;\n",
       "            height: 100%;\n",
       "            margin: 0%;\n",
       "            overflow: auto;\n",
       "            position: relative;\n",
       "            overflow-y: scroll;\n",
       "        }\n",
       "\n",
       "        div.ipyplot-placeholder-div-93zGZDU2HumBCx8Z3K7c2r {\n",
       "            width: 150px;\n",
       "            display: inline-block;\n",
       "            margin: 3px;\n",
       "            position: relative;\n",
       "        }\n",
       "\n",
       "        div.ipyplot-content-div-93zGZDU2HumBCx8Z3K7c2r {\n",
       "            width: 150px;\n",
       "            background: white;\n",
       "            display: inline-block;\n",
       "            vertical-align: top;\n",
       "            text-align: center;\n",
       "            position: relative;\n",
       "            border: 2px solid #ddd;\n",
       "            top: 0;\n",
       "            left: 0;\n",
       "        }\n",
       "\n",
       "        div.ipyplot-content-div-93zGZDU2HumBCx8Z3K7c2r span.ipyplot-img-close {\n",
       "            display: none;\n",
       "        }\n",
       "\n",
       "        div.ipyplot-content-div-93zGZDU2HumBCx8Z3K7c2r span {\n",
       "            width: 100%;\n",
       "            height: 100%;\n",
       "            position: absolute;\n",
       "            top: 0;\n",
       "            left: 0;\n",
       "        }\n",
       "\n",
       "        div.ipyplot-content-div-93zGZDU2HumBCx8Z3K7c2r img {\n",
       "            width: 150px;\n",
       "        }\n",
       "\n",
       "        div.ipyplot-content-div-93zGZDU2HumBCx8Z3K7c2r span.ipyplot-img-close:hover {\n",
       "            cursor: zoom-out;\n",
       "        }\n",
       "        div.ipyplot-content-div-93zGZDU2HumBCx8Z3K7c2r span.ipyplot-img-expand:hover {\n",
       "            cursor: zoom-in;\n",
       "        }\n",
       "\n",
       "        div[id^=ipyplot-content-div-93zGZDU2HumBCx8Z3K7c2r]:target {\n",
       "            transform: scale(2.5);\n",
       "            transform-origin: left top;\n",
       "            z-index: 5000;\n",
       "            top: 0;\n",
       "            left: 0;\n",
       "            position: absolute;\n",
       "        }\n",
       "\n",
       "        div[id^=ipyplot-content-div-93zGZDU2HumBCx8Z3K7c2r]:target span.ipyplot-img-close {\n",
       "            display: block;\n",
       "        }\n",
       "\n",
       "        div[id^=ipyplot-content-div-93zGZDU2HumBCx8Z3K7c2r]:target span.ipyplot-img-expand {\n",
       "            display: none;\n",
       "        }\n",
       "        </style>\n",
       "    <div id=\"ipyplot-imgs-container-div-93zGZDU2HumBCx8Z3K7c2r\">\n",
       "    <div class=\"ipyplot-placeholder-div-93zGZDU2HumBCx8Z3K7c2r\">\n",
       "        <div id=\"ipyplot-content-div-93zGZDU2HumBCx8Z3K7c2r-HYsrFCQk8usT3F5XZe3sMX\" class=\"ipyplot-content-div-93zGZDU2HumBCx8Z3K7c2r\">\n",
       "            <h4 style=\"font-size: 12px; word-wrap: break-word;\">0</h4>\n",
       "            <h4 style=\"font-size: 9px; padding-left: 10px; padding-right: 10px; width: 95%; word-wrap: break-word; white-space: normal;\">./dataset/test_set/cats/cat.4001.jpg</h4><img src=\"./dataset/test_set/cats/cat.4001.jpg\"/>\n",
       "            <a href=\"#!\">\n",
       "                <span class=\"ipyplot-img-close\"/>\n",
       "            </a>\n",
       "            <a href=\"#ipyplot-content-div-93zGZDU2HumBCx8Z3K7c2r-HYsrFCQk8usT3F5XZe3sMX\">\n",
       "                <span class=\"ipyplot-img-expand\"/>\n",
       "            </a>\n",
       "        </div>\n",
       "    </div>\n",
       "    \n",
       "    <div class=\"ipyplot-placeholder-div-93zGZDU2HumBCx8Z3K7c2r\">\n",
       "        <div id=\"ipyplot-content-div-93zGZDU2HumBCx8Z3K7c2r-5xwm3firnk5o9ebcQAWdqz\" class=\"ipyplot-content-div-93zGZDU2HumBCx8Z3K7c2r\">\n",
       "            <h4 style=\"font-size: 12px; word-wrap: break-word;\">1</h4>\n",
       "            <h4 style=\"font-size: 9px; padding-left: 10px; padding-right: 10px; width: 95%; word-wrap: break-word; white-space: normal;\">./dataset/test_set/cats/cat.4002.jpg</h4><img src=\"./dataset/test_set/cats/cat.4002.jpg\"/>\n",
       "            <a href=\"#!\">\n",
       "                <span class=\"ipyplot-img-close\"/>\n",
       "            </a>\n",
       "            <a href=\"#ipyplot-content-div-93zGZDU2HumBCx8Z3K7c2r-5xwm3firnk5o9ebcQAWdqz\">\n",
       "                <span class=\"ipyplot-img-expand\"/>\n",
       "            </a>\n",
       "        </div>\n",
       "    </div>\n",
       "    \n",
       "    <div class=\"ipyplot-placeholder-div-93zGZDU2HumBCx8Z3K7c2r\">\n",
       "        <div id=\"ipyplot-content-div-93zGZDU2HumBCx8Z3K7c2r-R8cnsb2WPbBBbkwJEYrapb\" class=\"ipyplot-content-div-93zGZDU2HumBCx8Z3K7c2r\">\n",
       "            <h4 style=\"font-size: 12px; word-wrap: break-word;\">2</h4>\n",
       "            <h4 style=\"font-size: 9px; padding-left: 10px; padding-right: 10px; width: 95%; word-wrap: break-word; white-space: normal;\">./dataset/test_set/cats/cat.4003.jpg</h4><img src=\"./dataset/test_set/cats/cat.4003.jpg\"/>\n",
       "            <a href=\"#!\">\n",
       "                <span class=\"ipyplot-img-close\"/>\n",
       "            </a>\n",
       "            <a href=\"#ipyplot-content-div-93zGZDU2HumBCx8Z3K7c2r-R8cnsb2WPbBBbkwJEYrapb\">\n",
       "                <span class=\"ipyplot-img-expand\"/>\n",
       "            </a>\n",
       "        </div>\n",
       "    </div>\n",
       "    \n",
       "    <div class=\"ipyplot-placeholder-div-93zGZDU2HumBCx8Z3K7c2r\">\n",
       "        <div id=\"ipyplot-content-div-93zGZDU2HumBCx8Z3K7c2r-F6Sif5fXphNk3ekUsaoxwY\" class=\"ipyplot-content-div-93zGZDU2HumBCx8Z3K7c2r\">\n",
       "            <h4 style=\"font-size: 12px; word-wrap: break-word;\">3</h4>\n",
       "            <h4 style=\"font-size: 9px; padding-left: 10px; padding-right: 10px; width: 95%; word-wrap: break-word; white-space: normal;\">./dataset/test_set/cats/cat.4004.jpg</h4><img src=\"./dataset/test_set/cats/cat.4004.jpg\"/>\n",
       "            <a href=\"#!\">\n",
       "                <span class=\"ipyplot-img-close\"/>\n",
       "            </a>\n",
       "            <a href=\"#ipyplot-content-div-93zGZDU2HumBCx8Z3K7c2r-F6Sif5fXphNk3ekUsaoxwY\">\n",
       "                <span class=\"ipyplot-img-expand\"/>\n",
       "            </a>\n",
       "        </div>\n",
       "    </div>\n",
       "    \n",
       "    <div class=\"ipyplot-placeholder-div-93zGZDU2HumBCx8Z3K7c2r\">\n",
       "        <div id=\"ipyplot-content-div-93zGZDU2HumBCx8Z3K7c2r-UHTEBsNtW22Yw2WXawNCcm\" class=\"ipyplot-content-div-93zGZDU2HumBCx8Z3K7c2r\">\n",
       "            <h4 style=\"font-size: 12px; word-wrap: break-word;\">4</h4>\n",
       "            <h4 style=\"font-size: 9px; padding-left: 10px; padding-right: 10px; width: 95%; word-wrap: break-word; white-space: normal;\">./dataset/test_set/cats/cat.4005.jpg</h4><img src=\"./dataset/test_set/cats/cat.4005.jpg\"/>\n",
       "            <a href=\"#!\">\n",
       "                <span class=\"ipyplot-img-close\"/>\n",
       "            </a>\n",
       "            <a href=\"#ipyplot-content-div-93zGZDU2HumBCx8Z3K7c2r-UHTEBsNtW22Yw2WXawNCcm\">\n",
       "                <span class=\"ipyplot-img-expand\"/>\n",
       "            </a>\n",
       "        </div>\n",
       "    </div>\n",
       "    </div></div><div class=\"tab contentToRr2Q3ytJ5zZKBcnBMEQD\">\n",
       "        <style>\n",
       "        #ipyplot-imgs-container-div-eP25HtBukLtzkexZmpUfEV {\n",
       "            width: 100%;\n",
       "            height: 100%;\n",
       "            margin: 0%;\n",
       "            overflow: auto;\n",
       "            position: relative;\n",
       "            overflow-y: scroll;\n",
       "        }\n",
       "\n",
       "        div.ipyplot-placeholder-div-eP25HtBukLtzkexZmpUfEV {\n",
       "            width: 150px;\n",
       "            display: inline-block;\n",
       "            margin: 3px;\n",
       "            position: relative;\n",
       "        }\n",
       "\n",
       "        div.ipyplot-content-div-eP25HtBukLtzkexZmpUfEV {\n",
       "            width: 150px;\n",
       "            background: white;\n",
       "            display: inline-block;\n",
       "            vertical-align: top;\n",
       "            text-align: center;\n",
       "            position: relative;\n",
       "            border: 2px solid #ddd;\n",
       "            top: 0;\n",
       "            left: 0;\n",
       "        }\n",
       "\n",
       "        div.ipyplot-content-div-eP25HtBukLtzkexZmpUfEV span.ipyplot-img-close {\n",
       "            display: none;\n",
       "        }\n",
       "\n",
       "        div.ipyplot-content-div-eP25HtBukLtzkexZmpUfEV span {\n",
       "            width: 100%;\n",
       "            height: 100%;\n",
       "            position: absolute;\n",
       "            top: 0;\n",
       "            left: 0;\n",
       "        }\n",
       "\n",
       "        div.ipyplot-content-div-eP25HtBukLtzkexZmpUfEV img {\n",
       "            width: 150px;\n",
       "        }\n",
       "\n",
       "        div.ipyplot-content-div-eP25HtBukLtzkexZmpUfEV span.ipyplot-img-close:hover {\n",
       "            cursor: zoom-out;\n",
       "        }\n",
       "        div.ipyplot-content-div-eP25HtBukLtzkexZmpUfEV span.ipyplot-img-expand:hover {\n",
       "            cursor: zoom-in;\n",
       "        }\n",
       "\n",
       "        div[id^=ipyplot-content-div-eP25HtBukLtzkexZmpUfEV]:target {\n",
       "            transform: scale(2.5);\n",
       "            transform-origin: left top;\n",
       "            z-index: 5000;\n",
       "            top: 0;\n",
       "            left: 0;\n",
       "            position: absolute;\n",
       "        }\n",
       "\n",
       "        div[id^=ipyplot-content-div-eP25HtBukLtzkexZmpUfEV]:target span.ipyplot-img-close {\n",
       "            display: block;\n",
       "        }\n",
       "\n",
       "        div[id^=ipyplot-content-div-eP25HtBukLtzkexZmpUfEV]:target span.ipyplot-img-expand {\n",
       "            display: none;\n",
       "        }\n",
       "        </style>\n",
       "    <div id=\"ipyplot-imgs-container-div-eP25HtBukLtzkexZmpUfEV\">\n",
       "    <div class=\"ipyplot-placeholder-div-eP25HtBukLtzkexZmpUfEV\">\n",
       "        <div id=\"ipyplot-content-div-eP25HtBukLtzkexZmpUfEV-Xt4oSiueCnTLUUjtFZfMyY\" class=\"ipyplot-content-div-eP25HtBukLtzkexZmpUfEV\">\n",
       "            <h4 style=\"font-size: 12px; word-wrap: break-word;\">0</h4>\n",
       "            <h4 style=\"font-size: 9px; padding-left: 10px; padding-right: 10px; width: 95%; word-wrap: break-word; white-space: normal;\">./dataset/test_set/dogs/dog.4001.jpg</h4><img src=\"./dataset/test_set/dogs/dog.4001.jpg\"/>\n",
       "            <a href=\"#!\">\n",
       "                <span class=\"ipyplot-img-close\"/>\n",
       "            </a>\n",
       "            <a href=\"#ipyplot-content-div-eP25HtBukLtzkexZmpUfEV-Xt4oSiueCnTLUUjtFZfMyY\">\n",
       "                <span class=\"ipyplot-img-expand\"/>\n",
       "            </a>\n",
       "        </div>\n",
       "    </div>\n",
       "    \n",
       "    <div class=\"ipyplot-placeholder-div-eP25HtBukLtzkexZmpUfEV\">\n",
       "        <div id=\"ipyplot-content-div-eP25HtBukLtzkexZmpUfEV-hqWMY9epV2kzBfPMahCnWi\" class=\"ipyplot-content-div-eP25HtBukLtzkexZmpUfEV\">\n",
       "            <h4 style=\"font-size: 12px; word-wrap: break-word;\">1</h4>\n",
       "            <h4 style=\"font-size: 9px; padding-left: 10px; padding-right: 10px; width: 95%; word-wrap: break-word; white-space: normal;\">./dataset/test_set/dogs/dog.4002.jpg</h4><img src=\"./dataset/test_set/dogs/dog.4002.jpg\"/>\n",
       "            <a href=\"#!\">\n",
       "                <span class=\"ipyplot-img-close\"/>\n",
       "            </a>\n",
       "            <a href=\"#ipyplot-content-div-eP25HtBukLtzkexZmpUfEV-hqWMY9epV2kzBfPMahCnWi\">\n",
       "                <span class=\"ipyplot-img-expand\"/>\n",
       "            </a>\n",
       "        </div>\n",
       "    </div>\n",
       "    \n",
       "    <div class=\"ipyplot-placeholder-div-eP25HtBukLtzkexZmpUfEV\">\n",
       "        <div id=\"ipyplot-content-div-eP25HtBukLtzkexZmpUfEV-J8cLTimhAZScSiGZvigCF5\" class=\"ipyplot-content-div-eP25HtBukLtzkexZmpUfEV\">\n",
       "            <h4 style=\"font-size: 12px; word-wrap: break-word;\">2</h4>\n",
       "            <h4 style=\"font-size: 9px; padding-left: 10px; padding-right: 10px; width: 95%; word-wrap: break-word; white-space: normal;\">./dataset/test_set/dogs/dog.4003.jpg</h4><img src=\"./dataset/test_set/dogs/dog.4003.jpg\"/>\n",
       "            <a href=\"#!\">\n",
       "                <span class=\"ipyplot-img-close\"/>\n",
       "            </a>\n",
       "            <a href=\"#ipyplot-content-div-eP25HtBukLtzkexZmpUfEV-J8cLTimhAZScSiGZvigCF5\">\n",
       "                <span class=\"ipyplot-img-expand\"/>\n",
       "            </a>\n",
       "        </div>\n",
       "    </div>\n",
       "    \n",
       "    <div class=\"ipyplot-placeholder-div-eP25HtBukLtzkexZmpUfEV\">\n",
       "        <div id=\"ipyplot-content-div-eP25HtBukLtzkexZmpUfEV-V9Bcc5hdVdJAofGxGFUmYH\" class=\"ipyplot-content-div-eP25HtBukLtzkexZmpUfEV\">\n",
       "            <h4 style=\"font-size: 12px; word-wrap: break-word;\">3</h4>\n",
       "            <h4 style=\"font-size: 9px; padding-left: 10px; padding-right: 10px; width: 95%; word-wrap: break-word; white-space: normal;\">./dataset/test_set/dogs/dog.4004.jpg</h4><img src=\"./dataset/test_set/dogs/dog.4004.jpg\"/>\n",
       "            <a href=\"#!\">\n",
       "                <span class=\"ipyplot-img-close\"/>\n",
       "            </a>\n",
       "            <a href=\"#ipyplot-content-div-eP25HtBukLtzkexZmpUfEV-V9Bcc5hdVdJAofGxGFUmYH\">\n",
       "                <span class=\"ipyplot-img-expand\"/>\n",
       "            </a>\n",
       "        </div>\n",
       "    </div>\n",
       "    \n",
       "    <div class=\"ipyplot-placeholder-div-eP25HtBukLtzkexZmpUfEV\">\n",
       "        <div id=\"ipyplot-content-div-eP25HtBukLtzkexZmpUfEV-Xoa2cmNmd3TqNmKbRntvob\" class=\"ipyplot-content-div-eP25HtBukLtzkexZmpUfEV\">\n",
       "            <h4 style=\"font-size: 12px; word-wrap: break-word;\">4</h4>\n",
       "            <h4 style=\"font-size: 9px; padding-left: 10px; padding-right: 10px; width: 95%; word-wrap: break-word; white-space: normal;\">./dataset/test_set/dogs/dog.4005.jpg</h4><img src=\"./dataset/test_set/dogs/dog.4005.jpg\"/>\n",
       "            <a href=\"#!\">\n",
       "                <span class=\"ipyplot-img-close\"/>\n",
       "            </a>\n",
       "            <a href=\"#ipyplot-content-div-eP25HtBukLtzkexZmpUfEV-Xoa2cmNmd3TqNmKbRntvob\">\n",
       "                <span class=\"ipyplot-img-expand\"/>\n",
       "            </a>\n",
       "        </div>\n",
       "    </div>\n",
       "    </div></div></div>\n",
       "        </textarea>\n",
       "    </div>\n",
       "    "
      ],
      "text/plain": [
       "<IPython.core.display.HTML object>"
      ]
     },
     "metadata": {},
     "output_type": "display_data"
    },
    {
     "data": {
      "text/html": [
       "<div>\n",
       "        <style>\n",
       "            input.ipyplot-tab-nWdTpXyJ5JSNpX3h8excqU {\n",
       "                display: none;\n",
       "            }\n",
       "            input.ipyplot-tab-nWdTpXyJ5JSNpX3h8excqU + label.ipyplot-tab-label-nWdTpXyJ5JSNpX3h8excqU {\n",
       "                border: 1px solid #999;\n",
       "                background: #EEE;\n",
       "                padding: 4px 12px;\n",
       "                border-radius: 4px 4px 0 0;\n",
       "                position: relative;\n",
       "                top: 1px;\n",
       "            }\n",
       "            input.ipyplot-tab-nWdTpXyJ5JSNpX3h8excqU:checked + label.ipyplot-tab-label-nWdTpXyJ5JSNpX3h8excqU {\n",
       "                background: #FFF;\n",
       "                border-bottom: 1px solid transparent;\n",
       "            }\n",
       "            input.ipyplot-tab-nWdTpXyJ5JSNpX3h8excqU ~ .tab {\n",
       "                border-top: 1px solid #999;\n",
       "                padding: 12px;\n",
       "            }\n",
       "\n",
       "            input.ipyplot-tab-nWdTpXyJ5JSNpX3h8excqU ~ .tab {\n",
       "                display: none\n",
       "            }\n",
       "    #tabADhNRYiAhgvYbMCkN3xzJw:checked ~ .tab.contentADhNRYiAhgvYbMCkN3xzJw,#tabToRr2Q3ytJ5zZKBcnBMEQD:checked ~ .tab.contentToRr2Q3ytJ5zZKBcnBMEQD{ display: block; }</style><input class=\"ipyplot-tab-nWdTpXyJ5JSNpX3h8excqU\" type=\"radio\" name=\"tabs-nWdTpXyJ5JSNpX3h8excqU\" id=\"tabADhNRYiAhgvYbMCkN3xzJw\" checked /><label class=\"ipyplot-tab-label-nWdTpXyJ5JSNpX3h8excqU\" for=\"tabADhNRYiAhgvYbMCkN3xzJw\">cats</label><input class=\"ipyplot-tab-nWdTpXyJ5JSNpX3h8excqU\" type=\"radio\" name=\"tabs-nWdTpXyJ5JSNpX3h8excqU\" id=\"tabToRr2Q3ytJ5zZKBcnBMEQD\"/><label class=\"ipyplot-tab-label-nWdTpXyJ5JSNpX3h8excqU\" for=\"tabToRr2Q3ytJ5zZKBcnBMEQD\">dogs</label><div class=\"tab contentADhNRYiAhgvYbMCkN3xzJw\">\n",
       "        <style>\n",
       "        #ipyplot-imgs-container-div-93zGZDU2HumBCx8Z3K7c2r {\n",
       "            width: 100%;\n",
       "            height: 100%;\n",
       "            margin: 0%;\n",
       "            overflow: auto;\n",
       "            position: relative;\n",
       "            overflow-y: scroll;\n",
       "        }\n",
       "\n",
       "        div.ipyplot-placeholder-div-93zGZDU2HumBCx8Z3K7c2r {\n",
       "            width: 150px;\n",
       "            display: inline-block;\n",
       "            margin: 3px;\n",
       "            position: relative;\n",
       "        }\n",
       "\n",
       "        div.ipyplot-content-div-93zGZDU2HumBCx8Z3K7c2r {\n",
       "            width: 150px;\n",
       "            background: white;\n",
       "            display: inline-block;\n",
       "            vertical-align: top;\n",
       "            text-align: center;\n",
       "            position: relative;\n",
       "            border: 2px solid #ddd;\n",
       "            top: 0;\n",
       "            left: 0;\n",
       "        }\n",
       "\n",
       "        div.ipyplot-content-div-93zGZDU2HumBCx8Z3K7c2r span.ipyplot-img-close {\n",
       "            display: none;\n",
       "        }\n",
       "\n",
       "        div.ipyplot-content-div-93zGZDU2HumBCx8Z3K7c2r span {\n",
       "            width: 100%;\n",
       "            height: 100%;\n",
       "            position: absolute;\n",
       "            top: 0;\n",
       "            left: 0;\n",
       "        }\n",
       "\n",
       "        div.ipyplot-content-div-93zGZDU2HumBCx8Z3K7c2r img {\n",
       "            width: 150px;\n",
       "        }\n",
       "\n",
       "        div.ipyplot-content-div-93zGZDU2HumBCx8Z3K7c2r span.ipyplot-img-close:hover {\n",
       "            cursor: zoom-out;\n",
       "        }\n",
       "        div.ipyplot-content-div-93zGZDU2HumBCx8Z3K7c2r span.ipyplot-img-expand:hover {\n",
       "            cursor: zoom-in;\n",
       "        }\n",
       "\n",
       "        div[id^=ipyplot-content-div-93zGZDU2HumBCx8Z3K7c2r]:target {\n",
       "            transform: scale(2.5);\n",
       "            transform-origin: left top;\n",
       "            z-index: 5000;\n",
       "            top: 0;\n",
       "            left: 0;\n",
       "            position: absolute;\n",
       "        }\n",
       "\n",
       "        div[id^=ipyplot-content-div-93zGZDU2HumBCx8Z3K7c2r]:target span.ipyplot-img-close {\n",
       "            display: block;\n",
       "        }\n",
       "\n",
       "        div[id^=ipyplot-content-div-93zGZDU2HumBCx8Z3K7c2r]:target span.ipyplot-img-expand {\n",
       "            display: none;\n",
       "        }\n",
       "        </style>\n",
       "    <div id=\"ipyplot-imgs-container-div-93zGZDU2HumBCx8Z3K7c2r\">\n",
       "    <div class=\"ipyplot-placeholder-div-93zGZDU2HumBCx8Z3K7c2r\">\n",
       "        <div id=\"ipyplot-content-div-93zGZDU2HumBCx8Z3K7c2r-HYsrFCQk8usT3F5XZe3sMX\" class=\"ipyplot-content-div-93zGZDU2HumBCx8Z3K7c2r\">\n",
       "            <h4 style=\"font-size: 12px; word-wrap: break-word;\">0</h4>\n",
       "            <h4 style=\"font-size: 9px; padding-left: 10px; padding-right: 10px; width: 95%; word-wrap: break-word; white-space: normal;\">./dataset/test_set/cats/cat.4001.jpg</h4><img src=\"./dataset/test_set/cats/cat.4001.jpg\"/>\n",
       "            <a href=\"#!\">\n",
       "                <span class=\"ipyplot-img-close\"/>\n",
       "            </a>\n",
       "            <a href=\"#ipyplot-content-div-93zGZDU2HumBCx8Z3K7c2r-HYsrFCQk8usT3F5XZe3sMX\">\n",
       "                <span class=\"ipyplot-img-expand\"/>\n",
       "            </a>\n",
       "        </div>\n",
       "    </div>\n",
       "    \n",
       "    <div class=\"ipyplot-placeholder-div-93zGZDU2HumBCx8Z3K7c2r\">\n",
       "        <div id=\"ipyplot-content-div-93zGZDU2HumBCx8Z3K7c2r-5xwm3firnk5o9ebcQAWdqz\" class=\"ipyplot-content-div-93zGZDU2HumBCx8Z3K7c2r\">\n",
       "            <h4 style=\"font-size: 12px; word-wrap: break-word;\">1</h4>\n",
       "            <h4 style=\"font-size: 9px; padding-left: 10px; padding-right: 10px; width: 95%; word-wrap: break-word; white-space: normal;\">./dataset/test_set/cats/cat.4002.jpg</h4><img src=\"./dataset/test_set/cats/cat.4002.jpg\"/>\n",
       "            <a href=\"#!\">\n",
       "                <span class=\"ipyplot-img-close\"/>\n",
       "            </a>\n",
       "            <a href=\"#ipyplot-content-div-93zGZDU2HumBCx8Z3K7c2r-5xwm3firnk5o9ebcQAWdqz\">\n",
       "                <span class=\"ipyplot-img-expand\"/>\n",
       "            </a>\n",
       "        </div>\n",
       "    </div>\n",
       "    \n",
       "    <div class=\"ipyplot-placeholder-div-93zGZDU2HumBCx8Z3K7c2r\">\n",
       "        <div id=\"ipyplot-content-div-93zGZDU2HumBCx8Z3K7c2r-R8cnsb2WPbBBbkwJEYrapb\" class=\"ipyplot-content-div-93zGZDU2HumBCx8Z3K7c2r\">\n",
       "            <h4 style=\"font-size: 12px; word-wrap: break-word;\">2</h4>\n",
       "            <h4 style=\"font-size: 9px; padding-left: 10px; padding-right: 10px; width: 95%; word-wrap: break-word; white-space: normal;\">./dataset/test_set/cats/cat.4003.jpg</h4><img src=\"./dataset/test_set/cats/cat.4003.jpg\"/>\n",
       "            <a href=\"#!\">\n",
       "                <span class=\"ipyplot-img-close\"/>\n",
       "            </a>\n",
       "            <a href=\"#ipyplot-content-div-93zGZDU2HumBCx8Z3K7c2r-R8cnsb2WPbBBbkwJEYrapb\">\n",
       "                <span class=\"ipyplot-img-expand\"/>\n",
       "            </a>\n",
       "        </div>\n",
       "    </div>\n",
       "    \n",
       "    <div class=\"ipyplot-placeholder-div-93zGZDU2HumBCx8Z3K7c2r\">\n",
       "        <div id=\"ipyplot-content-div-93zGZDU2HumBCx8Z3K7c2r-F6Sif5fXphNk3ekUsaoxwY\" class=\"ipyplot-content-div-93zGZDU2HumBCx8Z3K7c2r\">\n",
       "            <h4 style=\"font-size: 12px; word-wrap: break-word;\">3</h4>\n",
       "            <h4 style=\"font-size: 9px; padding-left: 10px; padding-right: 10px; width: 95%; word-wrap: break-word; white-space: normal;\">./dataset/test_set/cats/cat.4004.jpg</h4><img src=\"./dataset/test_set/cats/cat.4004.jpg\"/>\n",
       "            <a href=\"#!\">\n",
       "                <span class=\"ipyplot-img-close\"/>\n",
       "            </a>\n",
       "            <a href=\"#ipyplot-content-div-93zGZDU2HumBCx8Z3K7c2r-F6Sif5fXphNk3ekUsaoxwY\">\n",
       "                <span class=\"ipyplot-img-expand\"/>\n",
       "            </a>\n",
       "        </div>\n",
       "    </div>\n",
       "    \n",
       "    <div class=\"ipyplot-placeholder-div-93zGZDU2HumBCx8Z3K7c2r\">\n",
       "        <div id=\"ipyplot-content-div-93zGZDU2HumBCx8Z3K7c2r-UHTEBsNtW22Yw2WXawNCcm\" class=\"ipyplot-content-div-93zGZDU2HumBCx8Z3K7c2r\">\n",
       "            <h4 style=\"font-size: 12px; word-wrap: break-word;\">4</h4>\n",
       "            <h4 style=\"font-size: 9px; padding-left: 10px; padding-right: 10px; width: 95%; word-wrap: break-word; white-space: normal;\">./dataset/test_set/cats/cat.4005.jpg</h4><img src=\"./dataset/test_set/cats/cat.4005.jpg\"/>\n",
       "            <a href=\"#!\">\n",
       "                <span class=\"ipyplot-img-close\"/>\n",
       "            </a>\n",
       "            <a href=\"#ipyplot-content-div-93zGZDU2HumBCx8Z3K7c2r-UHTEBsNtW22Yw2WXawNCcm\">\n",
       "                <span class=\"ipyplot-img-expand\"/>\n",
       "            </a>\n",
       "        </div>\n",
       "    </div>\n",
       "    </div></div><div class=\"tab contentToRr2Q3ytJ5zZKBcnBMEQD\">\n",
       "        <style>\n",
       "        #ipyplot-imgs-container-div-eP25HtBukLtzkexZmpUfEV {\n",
       "            width: 100%;\n",
       "            height: 100%;\n",
       "            margin: 0%;\n",
       "            overflow: auto;\n",
       "            position: relative;\n",
       "            overflow-y: scroll;\n",
       "        }\n",
       "\n",
       "        div.ipyplot-placeholder-div-eP25HtBukLtzkexZmpUfEV {\n",
       "            width: 150px;\n",
       "            display: inline-block;\n",
       "            margin: 3px;\n",
       "            position: relative;\n",
       "        }\n",
       "\n",
       "        div.ipyplot-content-div-eP25HtBukLtzkexZmpUfEV {\n",
       "            width: 150px;\n",
       "            background: white;\n",
       "            display: inline-block;\n",
       "            vertical-align: top;\n",
       "            text-align: center;\n",
       "            position: relative;\n",
       "            border: 2px solid #ddd;\n",
       "            top: 0;\n",
       "            left: 0;\n",
       "        }\n",
       "\n",
       "        div.ipyplot-content-div-eP25HtBukLtzkexZmpUfEV span.ipyplot-img-close {\n",
       "            display: none;\n",
       "        }\n",
       "\n",
       "        div.ipyplot-content-div-eP25HtBukLtzkexZmpUfEV span {\n",
       "            width: 100%;\n",
       "            height: 100%;\n",
       "            position: absolute;\n",
       "            top: 0;\n",
       "            left: 0;\n",
       "        }\n",
       "\n",
       "        div.ipyplot-content-div-eP25HtBukLtzkexZmpUfEV img {\n",
       "            width: 150px;\n",
       "        }\n",
       "\n",
       "        div.ipyplot-content-div-eP25HtBukLtzkexZmpUfEV span.ipyplot-img-close:hover {\n",
       "            cursor: zoom-out;\n",
       "        }\n",
       "        div.ipyplot-content-div-eP25HtBukLtzkexZmpUfEV span.ipyplot-img-expand:hover {\n",
       "            cursor: zoom-in;\n",
       "        }\n",
       "\n",
       "        div[id^=ipyplot-content-div-eP25HtBukLtzkexZmpUfEV]:target {\n",
       "            transform: scale(2.5);\n",
       "            transform-origin: left top;\n",
       "            z-index: 5000;\n",
       "            top: 0;\n",
       "            left: 0;\n",
       "            position: absolute;\n",
       "        }\n",
       "\n",
       "        div[id^=ipyplot-content-div-eP25HtBukLtzkexZmpUfEV]:target span.ipyplot-img-close {\n",
       "            display: block;\n",
       "        }\n",
       "\n",
       "        div[id^=ipyplot-content-div-eP25HtBukLtzkexZmpUfEV]:target span.ipyplot-img-expand {\n",
       "            display: none;\n",
       "        }\n",
       "        </style>\n",
       "    <div id=\"ipyplot-imgs-container-div-eP25HtBukLtzkexZmpUfEV\">\n",
       "    <div class=\"ipyplot-placeholder-div-eP25HtBukLtzkexZmpUfEV\">\n",
       "        <div id=\"ipyplot-content-div-eP25HtBukLtzkexZmpUfEV-Xt4oSiueCnTLUUjtFZfMyY\" class=\"ipyplot-content-div-eP25HtBukLtzkexZmpUfEV\">\n",
       "            <h4 style=\"font-size: 12px; word-wrap: break-word;\">0</h4>\n",
       "            <h4 style=\"font-size: 9px; padding-left: 10px; padding-right: 10px; width: 95%; word-wrap: break-word; white-space: normal;\">./dataset/test_set/dogs/dog.4001.jpg</h4><img src=\"./dataset/test_set/dogs/dog.4001.jpg\"/>\n",
       "            <a href=\"#!\">\n",
       "                <span class=\"ipyplot-img-close\"/>\n",
       "            </a>\n",
       "            <a href=\"#ipyplot-content-div-eP25HtBukLtzkexZmpUfEV-Xt4oSiueCnTLUUjtFZfMyY\">\n",
       "                <span class=\"ipyplot-img-expand\"/>\n",
       "            </a>\n",
       "        </div>\n",
       "    </div>\n",
       "    \n",
       "    <div class=\"ipyplot-placeholder-div-eP25HtBukLtzkexZmpUfEV\">\n",
       "        <div id=\"ipyplot-content-div-eP25HtBukLtzkexZmpUfEV-hqWMY9epV2kzBfPMahCnWi\" class=\"ipyplot-content-div-eP25HtBukLtzkexZmpUfEV\">\n",
       "            <h4 style=\"font-size: 12px; word-wrap: break-word;\">1</h4>\n",
       "            <h4 style=\"font-size: 9px; padding-left: 10px; padding-right: 10px; width: 95%; word-wrap: break-word; white-space: normal;\">./dataset/test_set/dogs/dog.4002.jpg</h4><img src=\"./dataset/test_set/dogs/dog.4002.jpg\"/>\n",
       "            <a href=\"#!\">\n",
       "                <span class=\"ipyplot-img-close\"/>\n",
       "            </a>\n",
       "            <a href=\"#ipyplot-content-div-eP25HtBukLtzkexZmpUfEV-hqWMY9epV2kzBfPMahCnWi\">\n",
       "                <span class=\"ipyplot-img-expand\"/>\n",
       "            </a>\n",
       "        </div>\n",
       "    </div>\n",
       "    \n",
       "    <div class=\"ipyplot-placeholder-div-eP25HtBukLtzkexZmpUfEV\">\n",
       "        <div id=\"ipyplot-content-div-eP25HtBukLtzkexZmpUfEV-J8cLTimhAZScSiGZvigCF5\" class=\"ipyplot-content-div-eP25HtBukLtzkexZmpUfEV\">\n",
       "            <h4 style=\"font-size: 12px; word-wrap: break-word;\">2</h4>\n",
       "            <h4 style=\"font-size: 9px; padding-left: 10px; padding-right: 10px; width: 95%; word-wrap: break-word; white-space: normal;\">./dataset/test_set/dogs/dog.4003.jpg</h4><img src=\"./dataset/test_set/dogs/dog.4003.jpg\"/>\n",
       "            <a href=\"#!\">\n",
       "                <span class=\"ipyplot-img-close\"/>\n",
       "            </a>\n",
       "            <a href=\"#ipyplot-content-div-eP25HtBukLtzkexZmpUfEV-J8cLTimhAZScSiGZvigCF5\">\n",
       "                <span class=\"ipyplot-img-expand\"/>\n",
       "            </a>\n",
       "        </div>\n",
       "    </div>\n",
       "    \n",
       "    <div class=\"ipyplot-placeholder-div-eP25HtBukLtzkexZmpUfEV\">\n",
       "        <div id=\"ipyplot-content-div-eP25HtBukLtzkexZmpUfEV-V9Bcc5hdVdJAofGxGFUmYH\" class=\"ipyplot-content-div-eP25HtBukLtzkexZmpUfEV\">\n",
       "            <h4 style=\"font-size: 12px; word-wrap: break-word;\">3</h4>\n",
       "            <h4 style=\"font-size: 9px; padding-left: 10px; padding-right: 10px; width: 95%; word-wrap: break-word; white-space: normal;\">./dataset/test_set/dogs/dog.4004.jpg</h4><img src=\"./dataset/test_set/dogs/dog.4004.jpg\"/>\n",
       "            <a href=\"#!\">\n",
       "                <span class=\"ipyplot-img-close\"/>\n",
       "            </a>\n",
       "            <a href=\"#ipyplot-content-div-eP25HtBukLtzkexZmpUfEV-V9Bcc5hdVdJAofGxGFUmYH\">\n",
       "                <span class=\"ipyplot-img-expand\"/>\n",
       "            </a>\n",
       "        </div>\n",
       "    </div>\n",
       "    \n",
       "    <div class=\"ipyplot-placeholder-div-eP25HtBukLtzkexZmpUfEV\">\n",
       "        <div id=\"ipyplot-content-div-eP25HtBukLtzkexZmpUfEV-Xoa2cmNmd3TqNmKbRntvob\" class=\"ipyplot-content-div-eP25HtBukLtzkexZmpUfEV\">\n",
       "            <h4 style=\"font-size: 12px; word-wrap: break-word;\">4</h4>\n",
       "            <h4 style=\"font-size: 9px; padding-left: 10px; padding-right: 10px; width: 95%; word-wrap: break-word; white-space: normal;\">./dataset/test_set/dogs/dog.4005.jpg</h4><img src=\"./dataset/test_set/dogs/dog.4005.jpg\"/>\n",
       "            <a href=\"#!\">\n",
       "                <span class=\"ipyplot-img-close\"/>\n",
       "            </a>\n",
       "            <a href=\"#ipyplot-content-div-eP25HtBukLtzkexZmpUfEV-Xoa2cmNmd3TqNmKbRntvob\">\n",
       "                <span class=\"ipyplot-img-expand\"/>\n",
       "            </a>\n",
       "        </div>\n",
       "    </div>\n",
       "    </div></div></div>"
      ],
      "text/plain": [
       "<IPython.core.display.HTML object>"
      ]
     },
     "metadata": {},
     "output_type": "display_data"
    }
   ],
   "source": [
    "import ipyplot\n",
    "\n",
    "ipyplot.plot_class_tabs(images_print, labels, max_imgs_per_tab=5, img_width=150)"
   ]
  },
  {
   "cell_type": "markdown",
   "metadata": {
    "colab_type": "text",
    "id": "af8O4l90gk7B"
   },
   "source": [
    "<div class=\"alert alert-block alert-info\">\n",
    "<b><h1>4. Building the CNN</h1></div>\n",
    "<a class=\"anchor\" id=\"4.-Building the CNN\"></a>\n",
    "    \n",
    "[[back to the top](#Table-of-content:)]"
   ]
  },
  {
   "cell_type": "markdown",
   "metadata": {
    "colab_type": "text",
    "id": "ces1gXY2lmoX"
   },
   "source": [
    "### Initialising the CNN"
   ]
  },
  {
   "cell_type": "code",
   "execution_count": 9,
   "metadata": {
    "colab": {},
    "colab_type": "code",
    "id": "SAUt4UMPlhLS"
   },
   "outputs": [],
   "source": [
    "cnn = tf.keras.models.Sequential()"
   ]
  },
  {
   "cell_type": "markdown",
   "metadata": {
    "colab_type": "text",
    "id": "u5YJj_XMl5LF"
   },
   "source": [
    "### Step 1 - Convolution"
   ]
  },
  {
   "cell_type": "code",
   "execution_count": 10,
   "metadata": {
    "colab": {},
    "colab_type": "code",
    "id": "XPzPrMckl-hV"
   },
   "outputs": [],
   "source": [
    "cnn.add(tf.keras.layers.Conv2D(filters=32, kernel_size=3, activation='relu', input_shape=[64, 64, 3]))"
   ]
  },
  {
   "cell_type": "markdown",
   "metadata": {
    "colab_type": "text",
    "id": "tf87FpvxmNOJ"
   },
   "source": [
    "### Step 2 - Pooling"
   ]
  },
  {
   "cell_type": "code",
   "execution_count": 11,
   "metadata": {
    "colab": {},
    "colab_type": "code",
    "id": "ncpqPl69mOac"
   },
   "outputs": [],
   "source": [
    "cnn.add(tf.keras.layers.MaxPool2D(pool_size=2, strides=2))"
   ]
  },
  {
   "cell_type": "markdown",
   "metadata": {
    "colab_type": "text",
    "id": "xaTOgD8rm4mU"
   },
   "source": [
    "### Adding a second convolutional layer"
   ]
  },
  {
   "cell_type": "code",
   "execution_count": 12,
   "metadata": {
    "colab": {},
    "colab_type": "code",
    "id": "i_-FZjn_m8gk"
   },
   "outputs": [],
   "source": [
    "cnn.add(tf.keras.layers.Conv2D(filters=32, kernel_size=3, activation='relu'))\n",
    "cnn.add(tf.keras.layers.MaxPool2D(pool_size=2, strides=2))"
   ]
  },
  {
   "cell_type": "markdown",
   "metadata": {
    "colab_type": "text",
    "id": "tmiEuvTunKfk"
   },
   "source": [
    "### Step 3 - Flattening"
   ]
  },
  {
   "cell_type": "code",
   "execution_count": 13,
   "metadata": {
    "colab": {},
    "colab_type": "code",
    "id": "6AZeOGCvnNZn"
   },
   "outputs": [],
   "source": [
    "cnn.add(tf.keras.layers.Flatten())"
   ]
  },
  {
   "cell_type": "markdown",
   "metadata": {
    "colab_type": "text",
    "id": "dAoSECOm203v"
   },
   "source": [
    "### Step 4 - Full Connection"
   ]
  },
  {
   "cell_type": "code",
   "execution_count": 14,
   "metadata": {
    "colab": {},
    "colab_type": "code",
    "id": "8GtmUlLd26Nq"
   },
   "outputs": [],
   "source": [
    "cnn.add(tf.keras.layers.Dense(units=128, activation='relu'))"
   ]
  },
  {
   "cell_type": "markdown",
   "metadata": {
    "colab_type": "text",
    "id": "yTldFvbX28Na"
   },
   "source": [
    "### Step 5 - Output Layer"
   ]
  },
  {
   "cell_type": "code",
   "execution_count": 15,
   "metadata": {
    "colab": {},
    "colab_type": "code",
    "id": "1p_Zj1Mc3Ko_"
   },
   "outputs": [],
   "source": [
    "cnn.add(tf.keras.layers.Dense(units=1, activation='sigmoid'))"
   ]
  },
  {
   "cell_type": "markdown",
   "metadata": {
    "colab_type": "text",
    "id": "D6XkI90snSDl"
   },
   "source": [
    "<div class=\"alert alert-block alert-info\">\n",
    "<b><h1>5. Training the CNN</h1></div>\n",
    "<a class=\"anchor\" id=\"5.-Training the CNN\"></a>\n",
    "    \n",
    "[[back to the top](#Table-of-content:)]"
   ]
  },
  {
   "cell_type": "markdown",
   "metadata": {
    "colab_type": "text",
    "id": "vfrFQACEnc6i"
   },
   "source": [
    "### Compiling the CNN"
   ]
  },
  {
   "cell_type": "code",
   "execution_count": 16,
   "metadata": {
    "colab": {},
    "colab_type": "code",
    "id": "NALksrNQpUlJ"
   },
   "outputs": [],
   "source": [
    "cnn.compile(optimizer = 'adam', loss = 'binary_crossentropy', metrics = ['accuracy'])"
   ]
  },
  {
   "cell_type": "markdown",
   "metadata": {
    "colab_type": "text",
    "id": "ehS-v3MIpX2h"
   },
   "source": [
    "### Training the CNN on the Training set and evaluating it on the Test set"
   ]
  },
  {
   "cell_type": "code",
   "execution_count": 17,
   "metadata": {
    "colab": {},
    "colab_type": "code",
    "id": "XUj1W4PJptta"
   },
   "outputs": [
    {
     "name": "stdout",
     "output_type": "stream",
     "text": [
      "Epoch 1/25\n",
      "250/250 [==============================] - 97s 387ms/step - loss: 0.6742 - accuracy: 0.5838 - val_loss: 0.6425 - val_accuracy: 0.6280\n",
      "Epoch 2/25\n",
      "250/250 [==============================] - 68s 273ms/step - loss: 0.6241 - accuracy: 0.6501 - val_loss: 0.5758 - val_accuracy: 0.6970\n",
      "Epoch 3/25\n",
      "250/250 [==============================] - 67s 269ms/step - loss: 0.5785 - accuracy: 0.6965 - val_loss: 0.5478 - val_accuracy: 0.7255\n",
      "Epoch 4/25\n",
      "250/250 [==============================] - 72s 290ms/step - loss: 0.5537 - accuracy: 0.7218 - val_loss: 0.5313 - val_accuracy: 0.7440\n",
      "Epoch 5/25\n",
      "250/250 [==============================] - 70s 279ms/step - loss: 0.5289 - accuracy: 0.7421 - val_loss: 0.5574 - val_accuracy: 0.7155\n",
      "Epoch 6/25\n",
      "250/250 [==============================] - 66s 266ms/step - loss: 0.5033 - accuracy: 0.7550 - val_loss: 0.5523 - val_accuracy: 0.7210\n",
      "Epoch 7/25\n",
      "250/250 [==============================] - 69s 277ms/step - loss: 0.4888 - accuracy: 0.7628 - val_loss: 0.5288 - val_accuracy: 0.7405\n",
      "Epoch 8/25\n",
      "250/250 [==============================] - 68s 274ms/step - loss: 0.4741 - accuracy: 0.7699 - val_loss: 0.4804 - val_accuracy: 0.7715\n",
      "Epoch 9/25\n",
      "250/250 [==============================] - 70s 282ms/step - loss: 0.4544 - accuracy: 0.7856 - val_loss: 0.5954 - val_accuracy: 0.7250\n",
      "Epoch 10/25\n",
      "250/250 [==============================] - 67s 268ms/step - loss: 0.4503 - accuracy: 0.7855 - val_loss: 0.4586 - val_accuracy: 0.7885\n",
      "Epoch 11/25\n",
      "250/250 [==============================] - 70s 278ms/step - loss: 0.4282 - accuracy: 0.7970 - val_loss: 0.4824 - val_accuracy: 0.7795\n",
      "Epoch 12/25\n",
      "250/250 [==============================] - 74s 295ms/step - loss: 0.4172 - accuracy: 0.8034 - val_loss: 0.4553 - val_accuracy: 0.7890\n",
      "Epoch 13/25\n",
      "250/250 [==============================] - 71s 285ms/step - loss: 0.3971 - accuracy: 0.8170 - val_loss: 0.4737 - val_accuracy: 0.7850\n",
      "Epoch 14/25\n",
      "250/250 [==============================] - 68s 274ms/step - loss: 0.3870 - accuracy: 0.8269 - val_loss: 0.4758 - val_accuracy: 0.7835\n",
      "Epoch 15/25\n",
      "250/250 [==============================] - 69s 276ms/step - loss: 0.3729 - accuracy: 0.8307 - val_loss: 0.4710 - val_accuracy: 0.7925\n",
      "Epoch 16/25\n",
      "250/250 [==============================] - 68s 271ms/step - loss: 0.3724 - accuracy: 0.8336 - val_loss: 0.4833 - val_accuracy: 0.7870\n",
      "Epoch 17/25\n",
      "250/250 [==============================] - 67s 267ms/step - loss: 0.3514 - accuracy: 0.8493 - val_loss: 0.5567 - val_accuracy: 0.7645\n",
      "Epoch 18/25\n",
      "250/250 [==============================] - 66s 265ms/step - loss: 0.3348 - accuracy: 0.8521 - val_loss: 0.4530 - val_accuracy: 0.7910\n",
      "Epoch 19/25\n",
      "250/250 [==============================] - 72s 289ms/step - loss: 0.3220 - accuracy: 0.8600 - val_loss: 0.4735 - val_accuracy: 0.7985\n",
      "Epoch 20/25\n",
      "250/250 [==============================] - 67s 266ms/step - loss: 0.3106 - accuracy: 0.8671 - val_loss: 0.5092 - val_accuracy: 0.7810\n",
      "Epoch 21/25\n",
      "250/250 [==============================] - 70s 282ms/step - loss: 0.2940 - accuracy: 0.8710 - val_loss: 0.4820 - val_accuracy: 0.8015\n",
      "Epoch 22/25\n",
      "250/250 [==============================] - 69s 274ms/step - loss: 0.2824 - accuracy: 0.8792 - val_loss: 0.5028 - val_accuracy: 0.7920\n",
      "Epoch 23/25\n",
      "250/250 [==============================] - 70s 280ms/step - loss: 0.2635 - accuracy: 0.8838 - val_loss: 0.5057 - val_accuracy: 0.7980\n",
      "Epoch 24/25\n",
      "250/250 [==============================] - 67s 269ms/step - loss: 0.2541 - accuracy: 0.8936 - val_loss: 0.5271 - val_accuracy: 0.7925\n",
      "Epoch 25/25\n",
      "250/250 [==============================] - 68s 270ms/step - loss: 0.2563 - accuracy: 0.8909 - val_loss: 0.5078 - val_accuracy: 0.7980\n"
     ]
    },
    {
     "data": {
      "text/plain": [
       "<tensorflow.python.keras.callbacks.History at 0x1c5da0164c0>"
      ]
     },
     "execution_count": 17,
     "metadata": {},
     "output_type": "execute_result"
    }
   ],
   "source": [
    "cnn.fit(x = training_set, validation_data = test_set, epochs = 25)"
   ]
  },
  {
   "cell_type": "markdown",
   "metadata": {
    "colab_type": "text",
    "id": "U3PZasO0006Z"
   },
   "source": [
    "<div class=\"alert alert-block alert-info\">\n",
    "<b><h1>6. Making a Prediction</h1></div>\n",
    "<a class=\"anchor\" id=\"6.-Making a Prediction\"></a>\n",
    "    \n",
    "[[back to the top](#Table-of-content:)]"
   ]
  },
  {
   "cell_type": "markdown",
   "metadata": {},
   "source": [
    "### Selecting a File"
   ]
  },
  {
   "cell_type": "code",
   "execution_count": 42,
   "metadata": {},
   "outputs": [
    {
     "data": {
      "application/vnd.jupyter.widget-view+json": {
       "model_id": "1efd07e5b9d2405aaeecfe176eaa527d",
       "version_major": 2,
       "version_minor": 0
      },
      "text/plain": [
       "Button(description='File select', style=ButtonStyle())"
      ]
     },
     "metadata": {},
     "output_type": "display_data"
    }
   ],
   "source": [
    "from ipywidgets import Button\n",
    "from tkinter import Tk, filedialog\n",
    "from IPython.display import clear_output, display\n",
    "\n",
    "def select_files(b):\n",
    "    clear_output()\n",
    "    root = Tk()\n",
    "    root.withdraw() # Hide the main window.\n",
    "    root.call('wm', 'attributes', '.', '-topmost', True) # Raise the root to the top of all windows.\n",
    "    b.files = filedialog.askopenfilename(multiple=True) # List of selected files will be set button's file attribute.\n",
    "    print(b.files) # Print the list of files selected.\n",
    "\n",
    "fileselect = Button(description=\"File select\")\n",
    "fileselect.on_click(select_files)\n",
    "\n",
    "display(fileselect)"
   ]
  },
  {
   "cell_type": "code",
   "execution_count": 39,
   "metadata": {},
   "outputs": [],
   "source": [
    "files = fileselect.files"
   ]
  },
  {
   "cell_type": "code",
   "execution_count": 40,
   "metadata": {},
   "outputs": [],
   "source": [
    "import numpy as np\n",
    "from keras.preprocessing import image\n",
    "test_image = image.load_img(files[0], target_size = (64, 64))\n",
    "test_image = image.img_to_array(test_image)\n",
    "test_image = np.expand_dims(test_image, axis = 0)\n",
    "result = cnn.predict(test_image)\n",
    "training_set.class_indices\n",
    "if result[0][0] == 1:\n",
    "  prediction = 'dog'\n",
    "else:\n",
    "  prediction = 'cat'"
   ]
  },
  {
   "cell_type": "code",
   "execution_count": 41,
   "metadata": {},
   "outputs": [
    {
     "name": "stdout",
     "output_type": "stream",
     "text": [
      "dog\n"
     ]
    }
   ],
   "source": [
    "print(prediction)"
   ]
  },
  {
   "cell_type": "code",
   "execution_count": null,
   "metadata": {},
   "outputs": [],
   "source": []
  }
 ],
 "metadata": {
  "colab": {
   "authorship_tag": "ABX9TyON0YxX/oky4tPbqCLnFjWD",
   "collapsed_sections": [],
   "name": "convolutional_neural_network.ipynb",
   "provenance": [],
   "toc_visible": true
  },
  "kernelspec": {
   "display_name": "Python 3",
   "language": "python",
   "name": "python3"
  },
  "language_info": {
   "codemirror_mode": {
    "name": "ipython",
    "version": 3
   },
   "file_extension": ".py",
   "mimetype": "text/x-python",
   "name": "python",
   "nbconvert_exporter": "python",
   "pygments_lexer": "ipython3",
   "version": "3.8.5"
  }
 },
 "nbformat": 4,
 "nbformat_minor": 1
}
