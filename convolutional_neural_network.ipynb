{
 "cells": [
  {
   "cell_type": "markdown",
   "metadata": {
    "colab_type": "text",
    "id": "3DR-eO17geWu"
   },
   "source": [
    "# Convolutional Neural Network\n",
    "\n",
    "<img src=\"catsvsdogs.png\" width=\"100%\" height=\"100%\"/>"
   ]
  },
  {
   "cell_type": "markdown",
   "metadata": {},
   "source": [
    "<strong>Create a Deep Convolutional Neural Network Step-by-Step to Classify Photographs of Dogs and Cats</strong>"
   ]
  },
  {
   "cell_type": "markdown",
   "metadata": {},
   "source": [
    "### Table of content:\n",
    "1. [Imports](#1.-Imports)  \n",
    "2. [Load the Dataset](#2.-Load-the-Dataset)  \n",
    "3. [Data Pre Processing](#3.-Data-Pre-Processing)   \n",
    "    3.1. [Pre Processing Training Data](#3.1.-Pre-Processing-Training-Data)  \n",
    "    3.2. [Pre Processing Test Data](#3.2.-Pre-Processing-Test-Data)    \n",
    "    3.3. [Display Images](#3.3.-Display-Images)  \n",
    "4. [Building the CNN](#4.-Building-the-CNN)   \n",
    "5. [Training the CNN](#5.-Training-the-CNN)  \n",
    "6. [Making a Prediction](#6.-Making-a-Prediction)  "
   ]
  },
  {
   "cell_type": "markdown",
   "metadata": {
    "colab_type": "text",
    "id": "EMefrVPCg-60"
   },
   "source": [
    "<div class=\"alert alert-block alert-info\">\n",
    "<b><h1>1. Imports</h1></div>\n",
    "<a class=\"anchor\" id=\"Imports\"></a>\n",
    "    \n",
    "[[back to the top](#Table-of-content:)]"
   ]
  },
  {
   "cell_type": "code",
   "execution_count": 1,
   "metadata": {
    "colab": {},
    "colab_type": "code",
    "id": "sCV30xyVhFbE"
   },
   "outputs": [
    {
     "name": "stderr",
     "output_type": "stream",
     "text": [
      "Using TensorFlow backend.\n"
     ]
    }
   ],
   "source": [
    "import tensorflow as tf\n",
    "from keras.preprocessing.image import ImageDataGenerator\n",
    "import os, datetime"
   ]
  },
  {
   "cell_type": "code",
   "execution_count": 2,
   "metadata": {
    "colab": {},
    "colab_type": "code",
    "id": "FIleuCAjoFD8"
   },
   "outputs": [
    {
     "data": {
      "text/plain": [
       "'2.3.0'"
      ]
     },
     "execution_count": 2,
     "metadata": {},
     "output_type": "execute_result"
    }
   ],
   "source": [
    "tf.__version__"
   ]
  },
  {
   "cell_type": "markdown",
   "metadata": {},
   "source": [
    "<div class=\"alert alert-block alert-info\">\n",
    "<b><h1>2. Load the Dataset</h1></div>\n",
    "<a class=\"anchor\" id=\"2.-Load the Dataset\"></a>\n",
    "    \n",
    "[[back to the top](#Table-of-content:)]"
   ]
  },
  {
   "cell_type": "code",
   "execution_count": 3,
   "metadata": {},
   "outputs": [],
   "source": [
    "#"
   ]
  },
  {
   "cell_type": "markdown",
   "metadata": {
    "colab_type": "text",
    "id": "oxQxCBWyoGPE"
   },
   "source": [
    "<div class=\"alert alert-block alert-info\">\n",
    "<b><h1>3. Data Pre Processing</h1></div>\n",
    "<a class=\"anchor\" id=\"3.-Data Pre Processing\"></a>\n",
    "    \n",
    "[[back to the top](#Table-of-content:)]"
   ]
  },
  {
   "cell_type": "code",
   "execution_count": 4,
   "metadata": {},
   "outputs": [],
   "source": [
    "#"
   ]
  },
  {
   "cell_type": "markdown",
   "metadata": {
    "colab_type": "text",
    "id": "MvE-heJNo3GG"
   },
   "source": [
    "<div class=\"alert alert-block alert-warning\">\n",
    "<h2>3.1. Pre Processing Training Data</h2></div>\n",
    "<a class=\"anchor\" id=\"3.1.-Pre Processing Training Data\"></a>\n",
    "\n",
    "[[back to the top](#Table-of-content:)]"
   ]
  },
  {
   "cell_type": "code",
   "execution_count": 5,
   "metadata": {
    "colab": {},
    "colab_type": "code",
    "id": "0koUcJMJpEBD"
   },
   "outputs": [
    {
     "name": "stdout",
     "output_type": "stream",
     "text": [
      "Found 8000 images belonging to 2 classes.\n"
     ]
    }
   ],
   "source": [
    "train_datagen = ImageDataGenerator(rescale = 1./255,\n",
    "                                   shear_range = 0.2,\n",
    "                                   zoom_range = 0.2,\n",
    "                                   horizontal_flip = True)\n",
    "training_set = train_datagen.flow_from_directory('dataset/training_set',\n",
    "                                                 target_size = (64, 64),\n",
    "                                                 batch_size = 32,\n",
    "                                                 class_mode = 'binary')"
   ]
  },
  {
   "cell_type": "markdown",
   "metadata": {
    "colab_type": "text",
    "id": "mrCMmGw9pHys"
   },
   "source": [
    "<div class=\"alert alert-block alert-warning\">\n",
    "<h2>3.2. Pre Processing Test Data</h2></div>\n",
    "<a class=\"anchor\" id=\"3.2.-Pre Processing Test Data\"></a>\n",
    "\n",
    "[[back to the top](#Table-of-content:)]"
   ]
  },
  {
   "cell_type": "code",
   "execution_count": 6,
   "metadata": {
    "colab": {},
    "colab_type": "code",
    "id": "SH4WzfOhpKc3"
   },
   "outputs": [
    {
     "name": "stdout",
     "output_type": "stream",
     "text": [
      "Found 2000 images belonging to 2 classes.\n"
     ]
    }
   ],
   "source": [
    "test_datagen = ImageDataGenerator(rescale = 1./255)\n",
    "test_set = test_datagen.flow_from_directory('dataset/test_set',\n",
    "                                            target_size = (64, 64),\n",
    "                                            batch_size = 32,\n",
    "                                            class_mode = 'binary')"
   ]
  },
  {
   "cell_type": "markdown",
   "metadata": {},
   "source": [
    "<div class=\"alert alert-block alert-warning\">\n",
    "<h2>3.3. Display Images</h2></div>\n",
    "<a class=\"anchor\" id=\"3.3.-Display Images\"></a>\n",
    "\n",
    "[[back to the top](#Table-of-content:)]"
   ]
  },
  {
   "cell_type": "code",
   "execution_count": 7,
   "metadata": {},
   "outputs": [],
   "source": [
    "images_print  =test_set.filenames[:]\n",
    "images_print = [image.replace('\\\\', '/') for image in images_print]\n",
    "images_print = ['./dataset/test_set/' + image for image in images_print]\n",
    "\n",
    "labels = [image.split('/')[-2] for image in images_print]"
   ]
  },
  {
   "cell_type": "code",
   "execution_count": 8,
   "metadata": {},
   "outputs": [
    {
     "data": {
      "text/html": [
       "\n",
       "    <style>\n",
       "        #ipyplot-html-viewer-toggle-YfJ7okWo27MdLAaM2xufXo {\n",
       "            position: absolute;\n",
       "            top: -9999px;\n",
       "            left: -9999px;\n",
       "            visibility: hidden;\n",
       "        }\n",
       "\n",
       "        #ipyplot-html-viewer-label-YfJ7okWo27MdLAaM2xufXo { \n",
       "            position: relative;\n",
       "            display: inline-block;\n",
       "            cursor: pointer;\n",
       "            color: blue;\n",
       "            text-decoration: underline;\n",
       "        }\n",
       "\n",
       "        #ipyplot-html-viewer-textarea-YfJ7okWo27MdLAaM2xufXo {\n",
       "            background: lightgrey;\n",
       "            width: 100%;\n",
       "            height: 0px;\n",
       "            display: none;\n",
       "        }\n",
       "\n",
       "        #ipyplot-html-viewer-toggle-YfJ7okWo27MdLAaM2xufXo:checked ~ #ipyplot-html-viewer-textarea-YfJ7okWo27MdLAaM2xufXo {\n",
       "            height: 200px;\n",
       "            display: block;\n",
       "        }\n",
       "\n",
       "        #ipyplot-html-viewer-toggle-YfJ7okWo27MdLAaM2xufXo:checked + #ipyplot-html-viewer-label-YfJ7okWo27MdLAaM2xufXo:after {\n",
       "            content: \"hide html\";\n",
       "            position: absolute;\n",
       "            top: 0;\n",
       "            left: 0;\n",
       "            right: 0;\n",
       "            bottom: 0;\n",
       "            background: white;\n",
       "            cursor: pointer;\n",
       "            color: blue;\n",
       "            text-decoration: underline;\n",
       "        }\n",
       "    </style>\n",
       "    <div>\n",
       "        <input type=\"checkbox\" id=\"ipyplot-html-viewer-toggle-YfJ7okWo27MdLAaM2xufXo\">\n",
       "        <label id=\"ipyplot-html-viewer-label-YfJ7okWo27MdLAaM2xufXo\" for=\"ipyplot-html-viewer-toggle-YfJ7okWo27MdLAaM2xufXo\">show html</label>\n",
       "        <textarea id=\"ipyplot-html-viewer-textarea-YfJ7okWo27MdLAaM2xufXo\" readonly>\n",
       "            <div>\n",
       "        <style>\n",
       "            input.ipyplot-tab-YMsdWRknbcKqHxvondtJNr {\n",
       "                display: none;\n",
       "            }\n",
       "            input.ipyplot-tab-YMsdWRknbcKqHxvondtJNr + label.ipyplot-tab-label-YMsdWRknbcKqHxvondtJNr {\n",
       "                border: 1px solid #999;\n",
       "                background: #EEE;\n",
       "                padding: 4px 12px;\n",
       "                border-radius: 4px 4px 0 0;\n",
       "                position: relative;\n",
       "                top: 1px;\n",
       "            }\n",
       "            input.ipyplot-tab-YMsdWRknbcKqHxvondtJNr:checked + label.ipyplot-tab-label-YMsdWRknbcKqHxvondtJNr {\n",
       "                background: #FFF;\n",
       "                border-bottom: 1px solid transparent;\n",
       "            }\n",
       "            input.ipyplot-tab-YMsdWRknbcKqHxvondtJNr ~ .tab {\n",
       "                border-top: 1px solid #999;\n",
       "                padding: 12px;\n",
       "            }\n",
       "\n",
       "            input.ipyplot-tab-YMsdWRknbcKqHxvondtJNr ~ .tab {\n",
       "                display: none\n",
       "            }\n",
       "    #tabmiq9gbw5PXPG7Kzan2dpTS:checked ~ .tab.contentmiq9gbw5PXPG7Kzan2dpTS,#tabjTSyiHKD38avaHBAUaq52r:checked ~ .tab.contentjTSyiHKD38avaHBAUaq52r{ display: block; }</style><input class=\"ipyplot-tab-YMsdWRknbcKqHxvondtJNr\" type=\"radio\" name=\"tabs-YMsdWRknbcKqHxvondtJNr\" id=\"tabmiq9gbw5PXPG7Kzan2dpTS\" checked /><label class=\"ipyplot-tab-label-YMsdWRknbcKqHxvondtJNr\" for=\"tabmiq9gbw5PXPG7Kzan2dpTS\">cats</label><input class=\"ipyplot-tab-YMsdWRknbcKqHxvondtJNr\" type=\"radio\" name=\"tabs-YMsdWRknbcKqHxvondtJNr\" id=\"tabjTSyiHKD38avaHBAUaq52r\"/><label class=\"ipyplot-tab-label-YMsdWRknbcKqHxvondtJNr\" for=\"tabjTSyiHKD38avaHBAUaq52r\">dogs</label><div class=\"tab contentmiq9gbw5PXPG7Kzan2dpTS\">\n",
       "        <style>\n",
       "        #ipyplot-imgs-container-div-j2QrFRCowvNRX2ap9Cn5k7 {\n",
       "            width: 100%;\n",
       "            height: 100%;\n",
       "            margin: 0%;\n",
       "            overflow: auto;\n",
       "            position: relative;\n",
       "            overflow-y: scroll;\n",
       "        }\n",
       "\n",
       "        div.ipyplot-placeholder-div-j2QrFRCowvNRX2ap9Cn5k7 {\n",
       "            width: 150px;\n",
       "            display: inline-block;\n",
       "            margin: 3px;\n",
       "            position: relative;\n",
       "        }\n",
       "\n",
       "        div.ipyplot-content-div-j2QrFRCowvNRX2ap9Cn5k7 {\n",
       "            width: 150px;\n",
       "            background: white;\n",
       "            display: inline-block;\n",
       "            vertical-align: top;\n",
       "            text-align: center;\n",
       "            position: relative;\n",
       "            border: 2px solid #ddd;\n",
       "            top: 0;\n",
       "            left: 0;\n",
       "        }\n",
       "\n",
       "        div.ipyplot-content-div-j2QrFRCowvNRX2ap9Cn5k7 span.ipyplot-img-close {\n",
       "            display: none;\n",
       "        }\n",
       "\n",
       "        div.ipyplot-content-div-j2QrFRCowvNRX2ap9Cn5k7 span {\n",
       "            width: 100%;\n",
       "            height: 100%;\n",
       "            position: absolute;\n",
       "            top: 0;\n",
       "            left: 0;\n",
       "        }\n",
       "\n",
       "        div.ipyplot-content-div-j2QrFRCowvNRX2ap9Cn5k7 img {\n",
       "            width: 150px;\n",
       "        }\n",
       "\n",
       "        div.ipyplot-content-div-j2QrFRCowvNRX2ap9Cn5k7 span.ipyplot-img-close:hover {\n",
       "            cursor: zoom-out;\n",
       "        }\n",
       "        div.ipyplot-content-div-j2QrFRCowvNRX2ap9Cn5k7 span.ipyplot-img-expand:hover {\n",
       "            cursor: zoom-in;\n",
       "        }\n",
       "\n",
       "        div[id^=ipyplot-content-div-j2QrFRCowvNRX2ap9Cn5k7]:target {\n",
       "            transform: scale(2.5);\n",
       "            transform-origin: left top;\n",
       "            z-index: 5000;\n",
       "            top: 0;\n",
       "            left: 0;\n",
       "            position: absolute;\n",
       "        }\n",
       "\n",
       "        div[id^=ipyplot-content-div-j2QrFRCowvNRX2ap9Cn5k7]:target span.ipyplot-img-close {\n",
       "            display: block;\n",
       "        }\n",
       "\n",
       "        div[id^=ipyplot-content-div-j2QrFRCowvNRX2ap9Cn5k7]:target span.ipyplot-img-expand {\n",
       "            display: none;\n",
       "        }\n",
       "        </style>\n",
       "    <div id=\"ipyplot-imgs-container-div-j2QrFRCowvNRX2ap9Cn5k7\">\n",
       "    <div class=\"ipyplot-placeholder-div-j2QrFRCowvNRX2ap9Cn5k7\">\n",
       "        <div id=\"ipyplot-content-div-j2QrFRCowvNRX2ap9Cn5k7-eRmtmyZNMZFB7GVxfYBGre\" class=\"ipyplot-content-div-j2QrFRCowvNRX2ap9Cn5k7\">\n",
       "            <h4 style=\"font-size: 12px; word-wrap: break-word;\">0</h4>\n",
       "            <h4 style=\"font-size: 9px; padding-left: 10px; padding-right: 10px; width: 95%; word-wrap: break-word; white-space: normal;\">./dataset/test_set/cats/cat.4001.jpg</h4><img src=\"./dataset/test_set/cats/cat.4001.jpg\"/>\n",
       "            <a href=\"#!\">\n",
       "                <span class=\"ipyplot-img-close\"/>\n",
       "            </a>\n",
       "            <a href=\"#ipyplot-content-div-j2QrFRCowvNRX2ap9Cn5k7-eRmtmyZNMZFB7GVxfYBGre\">\n",
       "                <span class=\"ipyplot-img-expand\"/>\n",
       "            </a>\n",
       "        </div>\n",
       "    </div>\n",
       "    \n",
       "    <div class=\"ipyplot-placeholder-div-j2QrFRCowvNRX2ap9Cn5k7\">\n",
       "        <div id=\"ipyplot-content-div-j2QrFRCowvNRX2ap9Cn5k7-FgyB4ib4eKWUwPcZ9jdigH\" class=\"ipyplot-content-div-j2QrFRCowvNRX2ap9Cn5k7\">\n",
       "            <h4 style=\"font-size: 12px; word-wrap: break-word;\">1</h4>\n",
       "            <h4 style=\"font-size: 9px; padding-left: 10px; padding-right: 10px; width: 95%; word-wrap: break-word; white-space: normal;\">./dataset/test_set/cats/cat.4002.jpg</h4><img src=\"./dataset/test_set/cats/cat.4002.jpg\"/>\n",
       "            <a href=\"#!\">\n",
       "                <span class=\"ipyplot-img-close\"/>\n",
       "            </a>\n",
       "            <a href=\"#ipyplot-content-div-j2QrFRCowvNRX2ap9Cn5k7-FgyB4ib4eKWUwPcZ9jdigH\">\n",
       "                <span class=\"ipyplot-img-expand\"/>\n",
       "            </a>\n",
       "        </div>\n",
       "    </div>\n",
       "    \n",
       "    <div class=\"ipyplot-placeholder-div-j2QrFRCowvNRX2ap9Cn5k7\">\n",
       "        <div id=\"ipyplot-content-div-j2QrFRCowvNRX2ap9Cn5k7-6dp3AFC8MVnHnMLXVUuTn7\" class=\"ipyplot-content-div-j2QrFRCowvNRX2ap9Cn5k7\">\n",
       "            <h4 style=\"font-size: 12px; word-wrap: break-word;\">2</h4>\n",
       "            <h4 style=\"font-size: 9px; padding-left: 10px; padding-right: 10px; width: 95%; word-wrap: break-word; white-space: normal;\">./dataset/test_set/cats/cat.4003.jpg</h4><img src=\"./dataset/test_set/cats/cat.4003.jpg\"/>\n",
       "            <a href=\"#!\">\n",
       "                <span class=\"ipyplot-img-close\"/>\n",
       "            </a>\n",
       "            <a href=\"#ipyplot-content-div-j2QrFRCowvNRX2ap9Cn5k7-6dp3AFC8MVnHnMLXVUuTn7\">\n",
       "                <span class=\"ipyplot-img-expand\"/>\n",
       "            </a>\n",
       "        </div>\n",
       "    </div>\n",
       "    \n",
       "    <div class=\"ipyplot-placeholder-div-j2QrFRCowvNRX2ap9Cn5k7\">\n",
       "        <div id=\"ipyplot-content-div-j2QrFRCowvNRX2ap9Cn5k7-h7DRFnwSmXnahMUmQiVBMr\" class=\"ipyplot-content-div-j2QrFRCowvNRX2ap9Cn5k7\">\n",
       "            <h4 style=\"font-size: 12px; word-wrap: break-word;\">3</h4>\n",
       "            <h4 style=\"font-size: 9px; padding-left: 10px; padding-right: 10px; width: 95%; word-wrap: break-word; white-space: normal;\">./dataset/test_set/cats/cat.4004.jpg</h4><img src=\"./dataset/test_set/cats/cat.4004.jpg\"/>\n",
       "            <a href=\"#!\">\n",
       "                <span class=\"ipyplot-img-close\"/>\n",
       "            </a>\n",
       "            <a href=\"#ipyplot-content-div-j2QrFRCowvNRX2ap9Cn5k7-h7DRFnwSmXnahMUmQiVBMr\">\n",
       "                <span class=\"ipyplot-img-expand\"/>\n",
       "            </a>\n",
       "        </div>\n",
       "    </div>\n",
       "    \n",
       "    <div class=\"ipyplot-placeholder-div-j2QrFRCowvNRX2ap9Cn5k7\">\n",
       "        <div id=\"ipyplot-content-div-j2QrFRCowvNRX2ap9Cn5k7-QXJ5XNNZX97PcAJ9BFSFUL\" class=\"ipyplot-content-div-j2QrFRCowvNRX2ap9Cn5k7\">\n",
       "            <h4 style=\"font-size: 12px; word-wrap: break-word;\">4</h4>\n",
       "            <h4 style=\"font-size: 9px; padding-left: 10px; padding-right: 10px; width: 95%; word-wrap: break-word; white-space: normal;\">./dataset/test_set/cats/cat.4005.jpg</h4><img src=\"./dataset/test_set/cats/cat.4005.jpg\"/>\n",
       "            <a href=\"#!\">\n",
       "                <span class=\"ipyplot-img-close\"/>\n",
       "            </a>\n",
       "            <a href=\"#ipyplot-content-div-j2QrFRCowvNRX2ap9Cn5k7-QXJ5XNNZX97PcAJ9BFSFUL\">\n",
       "                <span class=\"ipyplot-img-expand\"/>\n",
       "            </a>\n",
       "        </div>\n",
       "    </div>\n",
       "    </div></div><div class=\"tab contentjTSyiHKD38avaHBAUaq52r\">\n",
       "        <style>\n",
       "        #ipyplot-imgs-container-div-gVXoXXwSpHHkKCzWfBcRSa {\n",
       "            width: 100%;\n",
       "            height: 100%;\n",
       "            margin: 0%;\n",
       "            overflow: auto;\n",
       "            position: relative;\n",
       "            overflow-y: scroll;\n",
       "        }\n",
       "\n",
       "        div.ipyplot-placeholder-div-gVXoXXwSpHHkKCzWfBcRSa {\n",
       "            width: 150px;\n",
       "            display: inline-block;\n",
       "            margin: 3px;\n",
       "            position: relative;\n",
       "        }\n",
       "\n",
       "        div.ipyplot-content-div-gVXoXXwSpHHkKCzWfBcRSa {\n",
       "            width: 150px;\n",
       "            background: white;\n",
       "            display: inline-block;\n",
       "            vertical-align: top;\n",
       "            text-align: center;\n",
       "            position: relative;\n",
       "            border: 2px solid #ddd;\n",
       "            top: 0;\n",
       "            left: 0;\n",
       "        }\n",
       "\n",
       "        div.ipyplot-content-div-gVXoXXwSpHHkKCzWfBcRSa span.ipyplot-img-close {\n",
       "            display: none;\n",
       "        }\n",
       "\n",
       "        div.ipyplot-content-div-gVXoXXwSpHHkKCzWfBcRSa span {\n",
       "            width: 100%;\n",
       "            height: 100%;\n",
       "            position: absolute;\n",
       "            top: 0;\n",
       "            left: 0;\n",
       "        }\n",
       "\n",
       "        div.ipyplot-content-div-gVXoXXwSpHHkKCzWfBcRSa img {\n",
       "            width: 150px;\n",
       "        }\n",
       "\n",
       "        div.ipyplot-content-div-gVXoXXwSpHHkKCzWfBcRSa span.ipyplot-img-close:hover {\n",
       "            cursor: zoom-out;\n",
       "        }\n",
       "        div.ipyplot-content-div-gVXoXXwSpHHkKCzWfBcRSa span.ipyplot-img-expand:hover {\n",
       "            cursor: zoom-in;\n",
       "        }\n",
       "\n",
       "        div[id^=ipyplot-content-div-gVXoXXwSpHHkKCzWfBcRSa]:target {\n",
       "            transform: scale(2.5);\n",
       "            transform-origin: left top;\n",
       "            z-index: 5000;\n",
       "            top: 0;\n",
       "            left: 0;\n",
       "            position: absolute;\n",
       "        }\n",
       "\n",
       "        div[id^=ipyplot-content-div-gVXoXXwSpHHkKCzWfBcRSa]:target span.ipyplot-img-close {\n",
       "            display: block;\n",
       "        }\n",
       "\n",
       "        div[id^=ipyplot-content-div-gVXoXXwSpHHkKCzWfBcRSa]:target span.ipyplot-img-expand {\n",
       "            display: none;\n",
       "        }\n",
       "        </style>\n",
       "    <div id=\"ipyplot-imgs-container-div-gVXoXXwSpHHkKCzWfBcRSa\">\n",
       "    <div class=\"ipyplot-placeholder-div-gVXoXXwSpHHkKCzWfBcRSa\">\n",
       "        <div id=\"ipyplot-content-div-gVXoXXwSpHHkKCzWfBcRSa-hJvX5RmfZrUE2Lj7Warm8v\" class=\"ipyplot-content-div-gVXoXXwSpHHkKCzWfBcRSa\">\n",
       "            <h4 style=\"font-size: 12px; word-wrap: break-word;\">0</h4>\n",
       "            <h4 style=\"font-size: 9px; padding-left: 10px; padding-right: 10px; width: 95%; word-wrap: break-word; white-space: normal;\">./dataset/test_set/dogs/dog.4001.jpg</h4><img src=\"./dataset/test_set/dogs/dog.4001.jpg\"/>\n",
       "            <a href=\"#!\">\n",
       "                <span class=\"ipyplot-img-close\"/>\n",
       "            </a>\n",
       "            <a href=\"#ipyplot-content-div-gVXoXXwSpHHkKCzWfBcRSa-hJvX5RmfZrUE2Lj7Warm8v\">\n",
       "                <span class=\"ipyplot-img-expand\"/>\n",
       "            </a>\n",
       "        </div>\n",
       "    </div>\n",
       "    \n",
       "    <div class=\"ipyplot-placeholder-div-gVXoXXwSpHHkKCzWfBcRSa\">\n",
       "        <div id=\"ipyplot-content-div-gVXoXXwSpHHkKCzWfBcRSa-HZcyoHyzwj8KnySmPzaYng\" class=\"ipyplot-content-div-gVXoXXwSpHHkKCzWfBcRSa\">\n",
       "            <h4 style=\"font-size: 12px; word-wrap: break-word;\">1</h4>\n",
       "            <h4 style=\"font-size: 9px; padding-left: 10px; padding-right: 10px; width: 95%; word-wrap: break-word; white-space: normal;\">./dataset/test_set/dogs/dog.4002.jpg</h4><img src=\"./dataset/test_set/dogs/dog.4002.jpg\"/>\n",
       "            <a href=\"#!\">\n",
       "                <span class=\"ipyplot-img-close\"/>\n",
       "            </a>\n",
       "            <a href=\"#ipyplot-content-div-gVXoXXwSpHHkKCzWfBcRSa-HZcyoHyzwj8KnySmPzaYng\">\n",
       "                <span class=\"ipyplot-img-expand\"/>\n",
       "            </a>\n",
       "        </div>\n",
       "    </div>\n",
       "    \n",
       "    <div class=\"ipyplot-placeholder-div-gVXoXXwSpHHkKCzWfBcRSa\">\n",
       "        <div id=\"ipyplot-content-div-gVXoXXwSpHHkKCzWfBcRSa-hoR9sW8bgqAdFVxY6BSQEW\" class=\"ipyplot-content-div-gVXoXXwSpHHkKCzWfBcRSa\">\n",
       "            <h4 style=\"font-size: 12px; word-wrap: break-word;\">2</h4>\n",
       "            <h4 style=\"font-size: 9px; padding-left: 10px; padding-right: 10px; width: 95%; word-wrap: break-word; white-space: normal;\">./dataset/test_set/dogs/dog.4003.jpg</h4><img src=\"./dataset/test_set/dogs/dog.4003.jpg\"/>\n",
       "            <a href=\"#!\">\n",
       "                <span class=\"ipyplot-img-close\"/>\n",
       "            </a>\n",
       "            <a href=\"#ipyplot-content-div-gVXoXXwSpHHkKCzWfBcRSa-hoR9sW8bgqAdFVxY6BSQEW\">\n",
       "                <span class=\"ipyplot-img-expand\"/>\n",
       "            </a>\n",
       "        </div>\n",
       "    </div>\n",
       "    \n",
       "    <div class=\"ipyplot-placeholder-div-gVXoXXwSpHHkKCzWfBcRSa\">\n",
       "        <div id=\"ipyplot-content-div-gVXoXXwSpHHkKCzWfBcRSa-WHUjkh9ECmKDJHka5Ds9Lf\" class=\"ipyplot-content-div-gVXoXXwSpHHkKCzWfBcRSa\">\n",
       "            <h4 style=\"font-size: 12px; word-wrap: break-word;\">3</h4>\n",
       "            <h4 style=\"font-size: 9px; padding-left: 10px; padding-right: 10px; width: 95%; word-wrap: break-word; white-space: normal;\">./dataset/test_set/dogs/dog.4004.jpg</h4><img src=\"./dataset/test_set/dogs/dog.4004.jpg\"/>\n",
       "            <a href=\"#!\">\n",
       "                <span class=\"ipyplot-img-close\"/>\n",
       "            </a>\n",
       "            <a href=\"#ipyplot-content-div-gVXoXXwSpHHkKCzWfBcRSa-WHUjkh9ECmKDJHka5Ds9Lf\">\n",
       "                <span class=\"ipyplot-img-expand\"/>\n",
       "            </a>\n",
       "        </div>\n",
       "    </div>\n",
       "    \n",
       "    <div class=\"ipyplot-placeholder-div-gVXoXXwSpHHkKCzWfBcRSa\">\n",
       "        <div id=\"ipyplot-content-div-gVXoXXwSpHHkKCzWfBcRSa-8kBebcX2djJfi3A8bZRhLF\" class=\"ipyplot-content-div-gVXoXXwSpHHkKCzWfBcRSa\">\n",
       "            <h4 style=\"font-size: 12px; word-wrap: break-word;\">4</h4>\n",
       "            <h4 style=\"font-size: 9px; padding-left: 10px; padding-right: 10px; width: 95%; word-wrap: break-word; white-space: normal;\">./dataset/test_set/dogs/dog.4005.jpg</h4><img src=\"./dataset/test_set/dogs/dog.4005.jpg\"/>\n",
       "            <a href=\"#!\">\n",
       "                <span class=\"ipyplot-img-close\"/>\n",
       "            </a>\n",
       "            <a href=\"#ipyplot-content-div-gVXoXXwSpHHkKCzWfBcRSa-8kBebcX2djJfi3A8bZRhLF\">\n",
       "                <span class=\"ipyplot-img-expand\"/>\n",
       "            </a>\n",
       "        </div>\n",
       "    </div>\n",
       "    </div></div></div>\n",
       "        </textarea>\n",
       "    </div>\n",
       "    "
      ],
      "text/plain": [
       "<IPython.core.display.HTML object>"
      ]
     },
     "metadata": {},
     "output_type": "display_data"
    },
    {
     "data": {
      "text/html": [
       "<div>\n",
       "        <style>\n",
       "            input.ipyplot-tab-YMsdWRknbcKqHxvondtJNr {\n",
       "                display: none;\n",
       "            }\n",
       "            input.ipyplot-tab-YMsdWRknbcKqHxvondtJNr + label.ipyplot-tab-label-YMsdWRknbcKqHxvondtJNr {\n",
       "                border: 1px solid #999;\n",
       "                background: #EEE;\n",
       "                padding: 4px 12px;\n",
       "                border-radius: 4px 4px 0 0;\n",
       "                position: relative;\n",
       "                top: 1px;\n",
       "            }\n",
       "            input.ipyplot-tab-YMsdWRknbcKqHxvondtJNr:checked + label.ipyplot-tab-label-YMsdWRknbcKqHxvondtJNr {\n",
       "                background: #FFF;\n",
       "                border-bottom: 1px solid transparent;\n",
       "            }\n",
       "            input.ipyplot-tab-YMsdWRknbcKqHxvondtJNr ~ .tab {\n",
       "                border-top: 1px solid #999;\n",
       "                padding: 12px;\n",
       "            }\n",
       "\n",
       "            input.ipyplot-tab-YMsdWRknbcKqHxvondtJNr ~ .tab {\n",
       "                display: none\n",
       "            }\n",
       "    #tabmiq9gbw5PXPG7Kzan2dpTS:checked ~ .tab.contentmiq9gbw5PXPG7Kzan2dpTS,#tabjTSyiHKD38avaHBAUaq52r:checked ~ .tab.contentjTSyiHKD38avaHBAUaq52r{ display: block; }</style><input class=\"ipyplot-tab-YMsdWRknbcKqHxvondtJNr\" type=\"radio\" name=\"tabs-YMsdWRknbcKqHxvondtJNr\" id=\"tabmiq9gbw5PXPG7Kzan2dpTS\" checked /><label class=\"ipyplot-tab-label-YMsdWRknbcKqHxvondtJNr\" for=\"tabmiq9gbw5PXPG7Kzan2dpTS\">cats</label><input class=\"ipyplot-tab-YMsdWRknbcKqHxvondtJNr\" type=\"radio\" name=\"tabs-YMsdWRknbcKqHxvondtJNr\" id=\"tabjTSyiHKD38avaHBAUaq52r\"/><label class=\"ipyplot-tab-label-YMsdWRknbcKqHxvondtJNr\" for=\"tabjTSyiHKD38avaHBAUaq52r\">dogs</label><div class=\"tab contentmiq9gbw5PXPG7Kzan2dpTS\">\n",
       "        <style>\n",
       "        #ipyplot-imgs-container-div-j2QrFRCowvNRX2ap9Cn5k7 {\n",
       "            width: 100%;\n",
       "            height: 100%;\n",
       "            margin: 0%;\n",
       "            overflow: auto;\n",
       "            position: relative;\n",
       "            overflow-y: scroll;\n",
       "        }\n",
       "\n",
       "        div.ipyplot-placeholder-div-j2QrFRCowvNRX2ap9Cn5k7 {\n",
       "            width: 150px;\n",
       "            display: inline-block;\n",
       "            margin: 3px;\n",
       "            position: relative;\n",
       "        }\n",
       "\n",
       "        div.ipyplot-content-div-j2QrFRCowvNRX2ap9Cn5k7 {\n",
       "            width: 150px;\n",
       "            background: white;\n",
       "            display: inline-block;\n",
       "            vertical-align: top;\n",
       "            text-align: center;\n",
       "            position: relative;\n",
       "            border: 2px solid #ddd;\n",
       "            top: 0;\n",
       "            left: 0;\n",
       "        }\n",
       "\n",
       "        div.ipyplot-content-div-j2QrFRCowvNRX2ap9Cn5k7 span.ipyplot-img-close {\n",
       "            display: none;\n",
       "        }\n",
       "\n",
       "        div.ipyplot-content-div-j2QrFRCowvNRX2ap9Cn5k7 span {\n",
       "            width: 100%;\n",
       "            height: 100%;\n",
       "            position: absolute;\n",
       "            top: 0;\n",
       "            left: 0;\n",
       "        }\n",
       "\n",
       "        div.ipyplot-content-div-j2QrFRCowvNRX2ap9Cn5k7 img {\n",
       "            width: 150px;\n",
       "        }\n",
       "\n",
       "        div.ipyplot-content-div-j2QrFRCowvNRX2ap9Cn5k7 span.ipyplot-img-close:hover {\n",
       "            cursor: zoom-out;\n",
       "        }\n",
       "        div.ipyplot-content-div-j2QrFRCowvNRX2ap9Cn5k7 span.ipyplot-img-expand:hover {\n",
       "            cursor: zoom-in;\n",
       "        }\n",
       "\n",
       "        div[id^=ipyplot-content-div-j2QrFRCowvNRX2ap9Cn5k7]:target {\n",
       "            transform: scale(2.5);\n",
       "            transform-origin: left top;\n",
       "            z-index: 5000;\n",
       "            top: 0;\n",
       "            left: 0;\n",
       "            position: absolute;\n",
       "        }\n",
       "\n",
       "        div[id^=ipyplot-content-div-j2QrFRCowvNRX2ap9Cn5k7]:target span.ipyplot-img-close {\n",
       "            display: block;\n",
       "        }\n",
       "\n",
       "        div[id^=ipyplot-content-div-j2QrFRCowvNRX2ap9Cn5k7]:target span.ipyplot-img-expand {\n",
       "            display: none;\n",
       "        }\n",
       "        </style>\n",
       "    <div id=\"ipyplot-imgs-container-div-j2QrFRCowvNRX2ap9Cn5k7\">\n",
       "    <div class=\"ipyplot-placeholder-div-j2QrFRCowvNRX2ap9Cn5k7\">\n",
       "        <div id=\"ipyplot-content-div-j2QrFRCowvNRX2ap9Cn5k7-eRmtmyZNMZFB7GVxfYBGre\" class=\"ipyplot-content-div-j2QrFRCowvNRX2ap9Cn5k7\">\n",
       "            <h4 style=\"font-size: 12px; word-wrap: break-word;\">0</h4>\n",
       "            <h4 style=\"font-size: 9px; padding-left: 10px; padding-right: 10px; width: 95%; word-wrap: break-word; white-space: normal;\">./dataset/test_set/cats/cat.4001.jpg</h4><img src=\"./dataset/test_set/cats/cat.4001.jpg\"/>\n",
       "            <a href=\"#!\">\n",
       "                <span class=\"ipyplot-img-close\"/>\n",
       "            </a>\n",
       "            <a href=\"#ipyplot-content-div-j2QrFRCowvNRX2ap9Cn5k7-eRmtmyZNMZFB7GVxfYBGre\">\n",
       "                <span class=\"ipyplot-img-expand\"/>\n",
       "            </a>\n",
       "        </div>\n",
       "    </div>\n",
       "    \n",
       "    <div class=\"ipyplot-placeholder-div-j2QrFRCowvNRX2ap9Cn5k7\">\n",
       "        <div id=\"ipyplot-content-div-j2QrFRCowvNRX2ap9Cn5k7-FgyB4ib4eKWUwPcZ9jdigH\" class=\"ipyplot-content-div-j2QrFRCowvNRX2ap9Cn5k7\">\n",
       "            <h4 style=\"font-size: 12px; word-wrap: break-word;\">1</h4>\n",
       "            <h4 style=\"font-size: 9px; padding-left: 10px; padding-right: 10px; width: 95%; word-wrap: break-word; white-space: normal;\">./dataset/test_set/cats/cat.4002.jpg</h4><img src=\"./dataset/test_set/cats/cat.4002.jpg\"/>\n",
       "            <a href=\"#!\">\n",
       "                <span class=\"ipyplot-img-close\"/>\n",
       "            </a>\n",
       "            <a href=\"#ipyplot-content-div-j2QrFRCowvNRX2ap9Cn5k7-FgyB4ib4eKWUwPcZ9jdigH\">\n",
       "                <span class=\"ipyplot-img-expand\"/>\n",
       "            </a>\n",
       "        </div>\n",
       "    </div>\n",
       "    \n",
       "    <div class=\"ipyplot-placeholder-div-j2QrFRCowvNRX2ap9Cn5k7\">\n",
       "        <div id=\"ipyplot-content-div-j2QrFRCowvNRX2ap9Cn5k7-6dp3AFC8MVnHnMLXVUuTn7\" class=\"ipyplot-content-div-j2QrFRCowvNRX2ap9Cn5k7\">\n",
       "            <h4 style=\"font-size: 12px; word-wrap: break-word;\">2</h4>\n",
       "            <h4 style=\"font-size: 9px; padding-left: 10px; padding-right: 10px; width: 95%; word-wrap: break-word; white-space: normal;\">./dataset/test_set/cats/cat.4003.jpg</h4><img src=\"./dataset/test_set/cats/cat.4003.jpg\"/>\n",
       "            <a href=\"#!\">\n",
       "                <span class=\"ipyplot-img-close\"/>\n",
       "            </a>\n",
       "            <a href=\"#ipyplot-content-div-j2QrFRCowvNRX2ap9Cn5k7-6dp3AFC8MVnHnMLXVUuTn7\">\n",
       "                <span class=\"ipyplot-img-expand\"/>\n",
       "            </a>\n",
       "        </div>\n",
       "    </div>\n",
       "    \n",
       "    <div class=\"ipyplot-placeholder-div-j2QrFRCowvNRX2ap9Cn5k7\">\n",
       "        <div id=\"ipyplot-content-div-j2QrFRCowvNRX2ap9Cn5k7-h7DRFnwSmXnahMUmQiVBMr\" class=\"ipyplot-content-div-j2QrFRCowvNRX2ap9Cn5k7\">\n",
       "            <h4 style=\"font-size: 12px; word-wrap: break-word;\">3</h4>\n",
       "            <h4 style=\"font-size: 9px; padding-left: 10px; padding-right: 10px; width: 95%; word-wrap: break-word; white-space: normal;\">./dataset/test_set/cats/cat.4004.jpg</h4><img src=\"./dataset/test_set/cats/cat.4004.jpg\"/>\n",
       "            <a href=\"#!\">\n",
       "                <span class=\"ipyplot-img-close\"/>\n",
       "            </a>\n",
       "            <a href=\"#ipyplot-content-div-j2QrFRCowvNRX2ap9Cn5k7-h7DRFnwSmXnahMUmQiVBMr\">\n",
       "                <span class=\"ipyplot-img-expand\"/>\n",
       "            </a>\n",
       "        </div>\n",
       "    </div>\n",
       "    \n",
       "    <div class=\"ipyplot-placeholder-div-j2QrFRCowvNRX2ap9Cn5k7\">\n",
       "        <div id=\"ipyplot-content-div-j2QrFRCowvNRX2ap9Cn5k7-QXJ5XNNZX97PcAJ9BFSFUL\" class=\"ipyplot-content-div-j2QrFRCowvNRX2ap9Cn5k7\">\n",
       "            <h4 style=\"font-size: 12px; word-wrap: break-word;\">4</h4>\n",
       "            <h4 style=\"font-size: 9px; padding-left: 10px; padding-right: 10px; width: 95%; word-wrap: break-word; white-space: normal;\">./dataset/test_set/cats/cat.4005.jpg</h4><img src=\"./dataset/test_set/cats/cat.4005.jpg\"/>\n",
       "            <a href=\"#!\">\n",
       "                <span class=\"ipyplot-img-close\"/>\n",
       "            </a>\n",
       "            <a href=\"#ipyplot-content-div-j2QrFRCowvNRX2ap9Cn5k7-QXJ5XNNZX97PcAJ9BFSFUL\">\n",
       "                <span class=\"ipyplot-img-expand\"/>\n",
       "            </a>\n",
       "        </div>\n",
       "    </div>\n",
       "    </div></div><div class=\"tab contentjTSyiHKD38avaHBAUaq52r\">\n",
       "        <style>\n",
       "        #ipyplot-imgs-container-div-gVXoXXwSpHHkKCzWfBcRSa {\n",
       "            width: 100%;\n",
       "            height: 100%;\n",
       "            margin: 0%;\n",
       "            overflow: auto;\n",
       "            position: relative;\n",
       "            overflow-y: scroll;\n",
       "        }\n",
       "\n",
       "        div.ipyplot-placeholder-div-gVXoXXwSpHHkKCzWfBcRSa {\n",
       "            width: 150px;\n",
       "            display: inline-block;\n",
       "            margin: 3px;\n",
       "            position: relative;\n",
       "        }\n",
       "\n",
       "        div.ipyplot-content-div-gVXoXXwSpHHkKCzWfBcRSa {\n",
       "            width: 150px;\n",
       "            background: white;\n",
       "            display: inline-block;\n",
       "            vertical-align: top;\n",
       "            text-align: center;\n",
       "            position: relative;\n",
       "            border: 2px solid #ddd;\n",
       "            top: 0;\n",
       "            left: 0;\n",
       "        }\n",
       "\n",
       "        div.ipyplot-content-div-gVXoXXwSpHHkKCzWfBcRSa span.ipyplot-img-close {\n",
       "            display: none;\n",
       "        }\n",
       "\n",
       "        div.ipyplot-content-div-gVXoXXwSpHHkKCzWfBcRSa span {\n",
       "            width: 100%;\n",
       "            height: 100%;\n",
       "            position: absolute;\n",
       "            top: 0;\n",
       "            left: 0;\n",
       "        }\n",
       "\n",
       "        div.ipyplot-content-div-gVXoXXwSpHHkKCzWfBcRSa img {\n",
       "            width: 150px;\n",
       "        }\n",
       "\n",
       "        div.ipyplot-content-div-gVXoXXwSpHHkKCzWfBcRSa span.ipyplot-img-close:hover {\n",
       "            cursor: zoom-out;\n",
       "        }\n",
       "        div.ipyplot-content-div-gVXoXXwSpHHkKCzWfBcRSa span.ipyplot-img-expand:hover {\n",
       "            cursor: zoom-in;\n",
       "        }\n",
       "\n",
       "        div[id^=ipyplot-content-div-gVXoXXwSpHHkKCzWfBcRSa]:target {\n",
       "            transform: scale(2.5);\n",
       "            transform-origin: left top;\n",
       "            z-index: 5000;\n",
       "            top: 0;\n",
       "            left: 0;\n",
       "            position: absolute;\n",
       "        }\n",
       "\n",
       "        div[id^=ipyplot-content-div-gVXoXXwSpHHkKCzWfBcRSa]:target span.ipyplot-img-close {\n",
       "            display: block;\n",
       "        }\n",
       "\n",
       "        div[id^=ipyplot-content-div-gVXoXXwSpHHkKCzWfBcRSa]:target span.ipyplot-img-expand {\n",
       "            display: none;\n",
       "        }\n",
       "        </style>\n",
       "    <div id=\"ipyplot-imgs-container-div-gVXoXXwSpHHkKCzWfBcRSa\">\n",
       "    <div class=\"ipyplot-placeholder-div-gVXoXXwSpHHkKCzWfBcRSa\">\n",
       "        <div id=\"ipyplot-content-div-gVXoXXwSpHHkKCzWfBcRSa-hJvX5RmfZrUE2Lj7Warm8v\" class=\"ipyplot-content-div-gVXoXXwSpHHkKCzWfBcRSa\">\n",
       "            <h4 style=\"font-size: 12px; word-wrap: break-word;\">0</h4>\n",
       "            <h4 style=\"font-size: 9px; padding-left: 10px; padding-right: 10px; width: 95%; word-wrap: break-word; white-space: normal;\">./dataset/test_set/dogs/dog.4001.jpg</h4><img src=\"./dataset/test_set/dogs/dog.4001.jpg\"/>\n",
       "            <a href=\"#!\">\n",
       "                <span class=\"ipyplot-img-close\"/>\n",
       "            </a>\n",
       "            <a href=\"#ipyplot-content-div-gVXoXXwSpHHkKCzWfBcRSa-hJvX5RmfZrUE2Lj7Warm8v\">\n",
       "                <span class=\"ipyplot-img-expand\"/>\n",
       "            </a>\n",
       "        </div>\n",
       "    </div>\n",
       "    \n",
       "    <div class=\"ipyplot-placeholder-div-gVXoXXwSpHHkKCzWfBcRSa\">\n",
       "        <div id=\"ipyplot-content-div-gVXoXXwSpHHkKCzWfBcRSa-HZcyoHyzwj8KnySmPzaYng\" class=\"ipyplot-content-div-gVXoXXwSpHHkKCzWfBcRSa\">\n",
       "            <h4 style=\"font-size: 12px; word-wrap: break-word;\">1</h4>\n",
       "            <h4 style=\"font-size: 9px; padding-left: 10px; padding-right: 10px; width: 95%; word-wrap: break-word; white-space: normal;\">./dataset/test_set/dogs/dog.4002.jpg</h4><img src=\"./dataset/test_set/dogs/dog.4002.jpg\"/>\n",
       "            <a href=\"#!\">\n",
       "                <span class=\"ipyplot-img-close\"/>\n",
       "            </a>\n",
       "            <a href=\"#ipyplot-content-div-gVXoXXwSpHHkKCzWfBcRSa-HZcyoHyzwj8KnySmPzaYng\">\n",
       "                <span class=\"ipyplot-img-expand\"/>\n",
       "            </a>\n",
       "        </div>\n",
       "    </div>\n",
       "    \n",
       "    <div class=\"ipyplot-placeholder-div-gVXoXXwSpHHkKCzWfBcRSa\">\n",
       "        <div id=\"ipyplot-content-div-gVXoXXwSpHHkKCzWfBcRSa-hoR9sW8bgqAdFVxY6BSQEW\" class=\"ipyplot-content-div-gVXoXXwSpHHkKCzWfBcRSa\">\n",
       "            <h4 style=\"font-size: 12px; word-wrap: break-word;\">2</h4>\n",
       "            <h4 style=\"font-size: 9px; padding-left: 10px; padding-right: 10px; width: 95%; word-wrap: break-word; white-space: normal;\">./dataset/test_set/dogs/dog.4003.jpg</h4><img src=\"./dataset/test_set/dogs/dog.4003.jpg\"/>\n",
       "            <a href=\"#!\">\n",
       "                <span class=\"ipyplot-img-close\"/>\n",
       "            </a>\n",
       "            <a href=\"#ipyplot-content-div-gVXoXXwSpHHkKCzWfBcRSa-hoR9sW8bgqAdFVxY6BSQEW\">\n",
       "                <span class=\"ipyplot-img-expand\"/>\n",
       "            </a>\n",
       "        </div>\n",
       "    </div>\n",
       "    \n",
       "    <div class=\"ipyplot-placeholder-div-gVXoXXwSpHHkKCzWfBcRSa\">\n",
       "        <div id=\"ipyplot-content-div-gVXoXXwSpHHkKCzWfBcRSa-WHUjkh9ECmKDJHka5Ds9Lf\" class=\"ipyplot-content-div-gVXoXXwSpHHkKCzWfBcRSa\">\n",
       "            <h4 style=\"font-size: 12px; word-wrap: break-word;\">3</h4>\n",
       "            <h4 style=\"font-size: 9px; padding-left: 10px; padding-right: 10px; width: 95%; word-wrap: break-word; white-space: normal;\">./dataset/test_set/dogs/dog.4004.jpg</h4><img src=\"./dataset/test_set/dogs/dog.4004.jpg\"/>\n",
       "            <a href=\"#!\">\n",
       "                <span class=\"ipyplot-img-close\"/>\n",
       "            </a>\n",
       "            <a href=\"#ipyplot-content-div-gVXoXXwSpHHkKCzWfBcRSa-WHUjkh9ECmKDJHka5Ds9Lf\">\n",
       "                <span class=\"ipyplot-img-expand\"/>\n",
       "            </a>\n",
       "        </div>\n",
       "    </div>\n",
       "    \n",
       "    <div class=\"ipyplot-placeholder-div-gVXoXXwSpHHkKCzWfBcRSa\">\n",
       "        <div id=\"ipyplot-content-div-gVXoXXwSpHHkKCzWfBcRSa-8kBebcX2djJfi3A8bZRhLF\" class=\"ipyplot-content-div-gVXoXXwSpHHkKCzWfBcRSa\">\n",
       "            <h4 style=\"font-size: 12px; word-wrap: break-word;\">4</h4>\n",
       "            <h4 style=\"font-size: 9px; padding-left: 10px; padding-right: 10px; width: 95%; word-wrap: break-word; white-space: normal;\">./dataset/test_set/dogs/dog.4005.jpg</h4><img src=\"./dataset/test_set/dogs/dog.4005.jpg\"/>\n",
       "            <a href=\"#!\">\n",
       "                <span class=\"ipyplot-img-close\"/>\n",
       "            </a>\n",
       "            <a href=\"#ipyplot-content-div-gVXoXXwSpHHkKCzWfBcRSa-8kBebcX2djJfi3A8bZRhLF\">\n",
       "                <span class=\"ipyplot-img-expand\"/>\n",
       "            </a>\n",
       "        </div>\n",
       "    </div>\n",
       "    </div></div></div>"
      ],
      "text/plain": [
       "<IPython.core.display.HTML object>"
      ]
     },
     "metadata": {},
     "output_type": "display_data"
    }
   ],
   "source": [
    "import ipyplot\n",
    "\n",
    "ipyplot.plot_class_tabs(images_print, labels, max_imgs_per_tab=5, img_width=150)"
   ]
  },
  {
   "cell_type": "markdown",
   "metadata": {
    "colab_type": "text",
    "id": "af8O4l90gk7B"
   },
   "source": [
    "<div class=\"alert alert-block alert-info\">\n",
    "<b><h1>4. Building the CNN</h1></div>\n",
    "<a class=\"anchor\" id=\"4.-Building the CNN\"></a>\n",
    "    \n",
    "[[back to the top](#Table-of-content:)]"
   ]
  },
  {
   "cell_type": "markdown",
   "metadata": {
    "colab_type": "text",
    "id": "ces1gXY2lmoX"
   },
   "source": [
    "### Initialising the CNN"
   ]
  },
  {
   "cell_type": "code",
   "execution_count": 9,
   "metadata": {},
   "outputs": [],
   "source": [
    "# Load the TensorBoard notebook extension\n",
    "%load_ext tensorboard"
   ]
  },
  {
   "cell_type": "code",
   "execution_count": 10,
   "metadata": {
    "colab": {},
    "colab_type": "code",
    "id": "SAUt4UMPlhLS"
   },
   "outputs": [],
   "source": [
    "cnn = tf.keras.models.Sequential()"
   ]
  },
  {
   "cell_type": "markdown",
   "metadata": {
    "colab_type": "text",
    "id": "u5YJj_XMl5LF"
   },
   "source": [
    "### Step 1 - Convolution"
   ]
  },
  {
   "cell_type": "code",
   "execution_count": 11,
   "metadata": {
    "colab": {},
    "colab_type": "code",
    "id": "XPzPrMckl-hV"
   },
   "outputs": [],
   "source": [
    "cnn.add(tf.keras.layers.Conv2D(filters=64, kernel_size=3, activation='relu', input_shape=[64, 64, 3]))"
   ]
  },
  {
   "cell_type": "markdown",
   "metadata": {
    "colab_type": "text",
    "id": "tf87FpvxmNOJ"
   },
   "source": [
    "### Step 2 - Pooling"
   ]
  },
  {
   "cell_type": "code",
   "execution_count": 12,
   "metadata": {
    "colab": {},
    "colab_type": "code",
    "id": "ncpqPl69mOac"
   },
   "outputs": [],
   "source": [
    "cnn.add(tf.keras.layers.MaxPool2D(pool_size=2, strides=2))"
   ]
  },
  {
   "cell_type": "markdown",
   "metadata": {
    "colab_type": "text",
    "id": "xaTOgD8rm4mU"
   },
   "source": [
    "### Adding a second convolutional layer"
   ]
  },
  {
   "cell_type": "code",
   "execution_count": 13,
   "metadata": {
    "colab": {},
    "colab_type": "code",
    "id": "i_-FZjn_m8gk"
   },
   "outputs": [],
   "source": [
    "cnn.add(tf.keras.layers.Conv2D(filters=64, kernel_size=3, activation='relu'))\n",
    "cnn.add(tf.keras.layers.MaxPool2D(pool_size=2, strides=2))"
   ]
  },
  {
   "cell_type": "markdown",
   "metadata": {
    "colab_type": "text",
    "id": "tmiEuvTunKfk"
   },
   "source": [
    "### Step 3 - Flattening"
   ]
  },
  {
   "cell_type": "code",
   "execution_count": 14,
   "metadata": {
    "colab": {},
    "colab_type": "code",
    "id": "6AZeOGCvnNZn"
   },
   "outputs": [],
   "source": [
    "cnn.add(tf.keras.layers.Flatten())"
   ]
  },
  {
   "cell_type": "markdown",
   "metadata": {
    "colab_type": "text",
    "id": "dAoSECOm203v"
   },
   "source": [
    "### Step 4 - Full Connection"
   ]
  },
  {
   "cell_type": "code",
   "execution_count": 15,
   "metadata": {
    "colab": {},
    "colab_type": "code",
    "id": "8GtmUlLd26Nq"
   },
   "outputs": [],
   "source": [
    "cnn.add(tf.keras.layers.Dense(units=256, activation='relu'))\n",
    "#cnn.add(tf.keras.layers.Dense(units=128, activation='relu'))"
   ]
  },
  {
   "cell_type": "markdown",
   "metadata": {
    "colab_type": "text",
    "id": "yTldFvbX28Na"
   },
   "source": [
    "### Step 5 - Output Layer"
   ]
  },
  {
   "cell_type": "code",
   "execution_count": 16,
   "metadata": {
    "colab": {},
    "colab_type": "code",
    "id": "1p_Zj1Mc3Ko_"
   },
   "outputs": [],
   "source": [
    "cnn.add(tf.keras.layers.Dense(units=1, activation='sigmoid'))"
   ]
  },
  {
   "cell_type": "markdown",
   "metadata": {
    "colab_type": "text",
    "id": "D6XkI90snSDl"
   },
   "source": [
    "<div class=\"alert alert-block alert-info\">\n",
    "<b><h1>5. Training the CNN</h1></div>\n",
    "<a class=\"anchor\" id=\"5.-Training the CNN\"></a>\n",
    "    \n",
    "[[back to the top](#Table-of-content:)]"
   ]
  },
  {
   "cell_type": "markdown",
   "metadata": {
    "colab_type": "text",
    "id": "vfrFQACEnc6i"
   },
   "source": [
    "### Compiling the CNN"
   ]
  },
  {
   "cell_type": "code",
   "execution_count": 17,
   "metadata": {
    "colab": {},
    "colab_type": "code",
    "id": "NALksrNQpUlJ"
   },
   "outputs": [],
   "source": [
    "cnn.compile(optimizer = 'adam', loss = 'binary_crossentropy', metrics = ['accuracy'])"
   ]
  },
  {
   "cell_type": "markdown",
   "metadata": {
    "colab_type": "text",
    "id": "ehS-v3MIpX2h"
   },
   "source": [
    "### Training the CNN on the Training set and evaluating it on the Test set"
   ]
  },
  {
   "cell_type": "code",
   "execution_count": 18,
   "metadata": {},
   "outputs": [],
   "source": [
    "logdir = os.path.join(\"logs\", datetime.datetime.now().strftime(\"%Y%m%d-%H%M%S\"))\n",
    "tensorboard_callback = tf.keras.callbacks.TensorBoard(logdir, histogram_freq=1)"
   ]
  },
  {
   "cell_type": "code",
   "execution_count": 19,
   "metadata": {
    "colab": {},
    "colab_type": "code",
    "id": "XUj1W4PJptta"
   },
   "outputs": [
    {
     "name": "stdout",
     "output_type": "stream",
     "text": [
      "Epoch 1/25\n",
      "  1/250 [..............................] - ETA: 0s - loss: 0.7069 - accuracy: 0.4062WARNING:tensorflow:From C:\\Users\\sjvd2\\Anaconda3\\lib\\site-packages\\tensorflow\\python\\ops\\summary_ops_v2.py:1277: stop (from tensorflow.python.eager.profiler) is deprecated and will be removed after 2020-07-01.\n",
      "Instructions for updating:\n",
      "use `tf.profiler.experimental.stop` instead.\n",
      "250/250 [==============================] - 37s 147ms/step - loss: 0.6534 - accuracy: 0.6144 - val_loss: 0.6230 - val_accuracy: 0.6620\n",
      "Epoch 2/25\n",
      "250/250 [==============================] - 37s 150ms/step - loss: 0.5914 - accuracy: 0.6852 - val_loss: 0.5756 - val_accuracy: 0.6915\n",
      "Epoch 3/25\n",
      "250/250 [==============================] - 38s 151ms/step - loss: 0.5521 - accuracy: 0.7176 - val_loss: 0.5554 - val_accuracy: 0.7195\n",
      "Epoch 4/25\n",
      "250/250 [==============================] - 37s 149ms/step - loss: 0.5100 - accuracy: 0.7489 - val_loss: 0.5536 - val_accuracy: 0.7195\n",
      "Epoch 5/25\n",
      "250/250 [==============================] - 38s 152ms/step - loss: 0.4870 - accuracy: 0.7657 - val_loss: 0.5010 - val_accuracy: 0.7665\n",
      "Epoch 6/25\n",
      "250/250 [==============================] - 35s 140ms/step - loss: 0.4630 - accuracy: 0.7816 - val_loss: 0.5364 - val_accuracy: 0.7405\n",
      "Epoch 7/25\n",
      "250/250 [==============================] - 35s 140ms/step - loss: 0.4449 - accuracy: 0.7835 - val_loss: 0.4921 - val_accuracy: 0.7695\n",
      "Epoch 8/25\n",
      "250/250 [==============================] - 35s 140ms/step - loss: 0.4302 - accuracy: 0.7989 - val_loss: 0.5281 - val_accuracy: 0.7575\n",
      "Epoch 9/25\n",
      "250/250 [==============================] - 35s 141ms/step - loss: 0.4195 - accuracy: 0.8043 - val_loss: 0.4614 - val_accuracy: 0.7860\n",
      "Epoch 10/25\n",
      "250/250 [==============================] - 35s 142ms/step - loss: 0.3934 - accuracy: 0.8154 - val_loss: 0.4637 - val_accuracy: 0.7870\n",
      "Epoch 11/25\n",
      "250/250 [==============================] - 36s 144ms/step - loss: 0.3792 - accuracy: 0.8305 - val_loss: 0.4686 - val_accuracy: 0.7940\n",
      "Epoch 12/25\n",
      "250/250 [==============================] - 37s 147ms/step - loss: 0.3726 - accuracy: 0.8319 - val_loss: 0.4537 - val_accuracy: 0.8010\n",
      "Epoch 13/25\n",
      "250/250 [==============================] - 37s 147ms/step - loss: 0.3505 - accuracy: 0.8429 - val_loss: 0.5462 - val_accuracy: 0.7755\n",
      "Epoch 14/25\n",
      "250/250 [==============================] - 37s 147ms/step - loss: 0.3254 - accuracy: 0.8525 - val_loss: 0.4668 - val_accuracy: 0.8055\n",
      "Epoch 15/25\n",
      "250/250 [==============================] - 37s 149ms/step - loss: 0.3210 - accuracy: 0.8577 - val_loss: 0.4728 - val_accuracy: 0.8000\n",
      "Epoch 16/25\n",
      "250/250 [==============================] - 38s 151ms/step - loss: 0.2974 - accuracy: 0.8721 - val_loss: 0.5389 - val_accuracy: 0.7800\n",
      "Epoch 17/25\n",
      "250/250 [==============================] - 38s 152ms/step - loss: 0.2838 - accuracy: 0.8795 - val_loss: 0.4783 - val_accuracy: 0.8095\n",
      "Epoch 18/25\n",
      "250/250 [==============================] - 38s 154ms/step - loss: 0.2678 - accuracy: 0.8867 - val_loss: 0.4744 - val_accuracy: 0.8005\n",
      "Epoch 19/25\n",
      "250/250 [==============================] - 42s 166ms/step - loss: 0.2438 - accuracy: 0.8986 - val_loss: 0.5204 - val_accuracy: 0.7965\n",
      "Epoch 20/25\n",
      "250/250 [==============================] - 43s 171ms/step - loss: 0.2350 - accuracy: 0.9034 - val_loss: 0.5024 - val_accuracy: 0.8130\n",
      "Epoch 21/25\n",
      "250/250 [==============================] - 44s 176ms/step - loss: 0.2227 - accuracy: 0.9101 - val_loss: 0.5586 - val_accuracy: 0.7925\n",
      "Epoch 22/25\n",
      "250/250 [==============================] - 45s 182ms/step - loss: 0.2103 - accuracy: 0.9133 - val_loss: 0.5235 - val_accuracy: 0.8085\n",
      "Epoch 23/25\n",
      "250/250 [==============================] - 48s 192ms/step - loss: 0.2066 - accuracy: 0.9145 - val_loss: 0.5750 - val_accuracy: 0.8065\n",
      "Epoch 24/25\n",
      "250/250 [==============================] - 47s 189ms/step - loss: 0.1828 - accuracy: 0.9258 - val_loss: 0.6192 - val_accuracy: 0.7970\n",
      "Epoch 25/25\n",
      "250/250 [==============================] - 51s 206ms/step - loss: 0.1631 - accuracy: 0.9369 - val_loss: 0.7005 - val_accuracy: 0.7995\n"
     ]
    }
   ],
   "source": [
    "history = cnn.fit(x = training_set, validation_data = test_set, epochs = 25,  callbacks=[tensorboard_callback])"
   ]
  },
  {
   "cell_type": "code",
   "execution_count": 20,
   "metadata": {},
   "outputs": [
    {
     "data": {
      "image/png": "[encoded data removed]",
      "text/plain": [
       "<Figure size 576x360 with 1 Axes>"
      ]
     },
     "metadata": {
      "needs_background": "light"
     },
     "output_type": "display_data"
    }
   ],
   "source": [
    "import pandas as pd\n",
    "from matplotlib import pyplot as plt\n",
    "\n",
    "pd.DataFrame(history.history).plot(figsize=(8, 5))\n",
    "plt.grid(True)\n",
    "plt.gca().set_ylim(0, 1) # set the vertical range to [0-1]\n",
    "plt.show()"
   ]
  },
  {
   "cell_type": "code",
   "execution_count": 21,
   "metadata": {},
   "outputs": [
    {
     "data": {
      "image/png": "[encoded data removed]",
      "text/plain": [
       "<Figure size 432x288 with 1 Axes>"
      ]
     },
     "metadata": {
      "needs_background": "light"
     },
     "output_type": "display_data"
    }
   ],
   "source": [
    "plt.plot(history.history['accuracy'])\n",
    "plt.plot(history.history['val_accuracy'])\n",
    "plt.title('model accuracy')\n",
    "plt.ylabel('accuracy')\n",
    "plt.xlabel('epoch')\n",
    "plt.legend(['train', 'val'], loc='upper left')\n",
    "plt.show()"
   ]
  },
  {
   "cell_type": "code",
   "execution_count": 22,
   "metadata": {},
   "outputs": [
    {
     "data": {
      "image/png": "[encoded data removed]",
      "text/plain": [
       "<Figure size 432x288 with 1 Axes>"
      ]
     },
     "metadata": {
      "needs_background": "light"
     },
     "output_type": "display_data"
    }
   ],
   "source": [
    "plt.plot(history.history['loss'])\n",
    "plt.plot(history.history['val_loss'])\n",
    "plt.title('model loss')\n",
    "plt.ylabel('loss')\n",
    "plt.xlabel('epoch')\n",
    "plt.legend(['train', 'val'], loc='upper left')\n",
    "plt.show()"
   ]
  },
  {
   "cell_type": "code",
   "execution_count": 23,
   "metadata": {},
   "outputs": [
    {
     "data": {
      "text/plain": [
       "Reusing TensorBoard on port 6006 (pid 5200), started 5 days, 10:58:02 ago. (Use '!kill 5200' to kill it.)"
      ]
     },
     "metadata": {},
     "output_type": "display_data"
    },
    {
     "data": {
      "text/html": [
       "\n",
       "      <iframe id=\"tensorboard-frame-dcfb86579bde8913\" width=\"100%\" height=\"800\" frameborder=\"0\">\n",
       "      </iframe>\n",
       "      <script>\n",
       "        (function() {\n",
       "          const frame = document.getElementById(\"tensorboard-frame-dcfb86579bde8913\");\n",
       "          const url = new URL(\"/\", window.location);\n",
       "          const port = 6006;\n",
       "          if (port) {\n",
       "            url.port = port;\n",
       "          }\n",
       "          frame.src = url;\n",
       "        })();\n",
       "      </script>\n",
       "    "
      ],
      "text/plain": [
       "<IPython.core.display.HTML object>"
      ]
     },
     "metadata": {},
     "output_type": "display_data"
    }
   ],
   "source": [
    "%tensorboard --logdir logs"
   ]
  },
  {
   "cell_type": "markdown",
   "metadata": {
    "colab_type": "text",
    "id": "U3PZasO0006Z"
   },
   "source": [
    "<div class=\"alert alert-block alert-info\">\n",
    "<b><h1>6. Making a Prediction</h1></div>\n",
    "<a class=\"anchor\" id=\"6.-Making a Prediction\"></a>\n",
    "    \n",
    "[[back to the top](#Table-of-content:)]"
   ]
  },
  {
   "cell_type": "markdown",
   "metadata": {},
   "source": [
    "### Selecting a File"
   ]
  },
  {
   "cell_type": "code",
   "execution_count": 41,
   "metadata": {},
   "outputs": [
    {
     "data": {
      "application/vnd.jupyter.widget-view+json": {
       "model_id": "dc5d9865b33d434bb8d5787f3a122b5e",
       "version_major": 2,
       "version_minor": 0
      },
      "text/plain": [
       "Button(description='File select', style=ButtonStyle())"
      ]
     },
     "metadata": {},
     "output_type": "display_data"
    }
   ],
   "source": [
    "from ipywidgets import Button\n",
    "from tkinter import Tk, filedialog\n",
    "from IPython.display import clear_output, display\n",
    "\n",
    "def select_files(b):\n",
    "    clear_output()\n",
    "    root = Tk()\n",
    "    root.withdraw() # Hide the main window.\n",
    "    root.call('wm', 'attributes', '.', '-topmost', True) # Raise the root to the top of all windows.\n",
    "    b.files = filedialog.askopenfilename(multiple=True) # List of selected files will be set button's file attribute.\n",
    "    print(b.files) # Print the list of files selected.\n",
    "\n",
    "fileselect = Button(description=\"File select\")\n",
    "fileselect.on_click(select_files)\n",
    "\n",
    "display(fileselect)"
   ]
  },
  {
   "cell_type": "code",
   "execution_count": 34,
   "metadata": {},
   "outputs": [],
   "source": [
    "files = fileselect.files"
   ]
  },
  {
   "cell_type": "code",
   "execution_count": 38,
   "metadata": {},
   "outputs": [
    {
     "data": {
      "image/png": "[encoded data removed]",
      "text/plain": [
       "<Figure size 432x288 with 1 Axes>"
      ]
     },
     "metadata": {
      "needs_background": "light"
     },
     "output_type": "display_data"
    }
   ],
   "source": [
    "import numpy as np\n",
    "from keras.preprocessing import image\n",
    "test_image = image.load_img(files[0], target_size = (64, 64))\n",
    "\n",
    "plt.imshow(test_image)   \n",
    "plt.show()"
   ]
  },
  {
   "cell_type": "code",
   "execution_count": 39,
   "metadata": {},
   "outputs": [],
   "source": [
    "test_image = image.img_to_array(test_image)\n",
    "test_image = np.expand_dims(test_image, axis = 0)\n",
    "result = cnn.predict(test_image)\n",
    "training_set.class_indices\n",
    "if result[0][0] == 1:\n",
    "  prediction = 'dog'\n",
    "else:\n",
    "  prediction = 'cat'"
   ]
  },
  {
   "cell_type": "code",
   "execution_count": 40,
   "metadata": {},
   "outputs": [
    {
     "name": "stdout",
     "output_type": "stream",
     "text": [
      "dog\n"
     ]
    }
   ],
   "source": [
    "print(prediction)"
   ]
  },
  {
   "cell_type": "code",
   "execution_count": null,
   "metadata": {},
   "outputs": [],
   "source": []
  }
 ],
 "metadata": {
  "colab": {
   "authorship_tag": "ABX9TyON0YxX/oky4tPbqCLnFjWD",
   "collapsed_sections": [],
   "name": "convolutional_neural_network.ipynb",
   "provenance": [],
   "toc_visible": true
  },
  "kernelspec": {
   "display_name": "Python 3",
   "language": "python",
   "name": "python3"
  },
  "language_info": {
   "codemirror_mode": {
    "name": "ipython",
    "version": 3
   },
   "file_extension": ".py",
   "mimetype": "text/x-python",
   "name": "python",
   "nbconvert_exporter": "python",
   "pygments_lexer": "ipython3",
   "version": "3.8.5"
  }
 },
 "nbformat": 4,
 "nbformat_minor": 1
}
